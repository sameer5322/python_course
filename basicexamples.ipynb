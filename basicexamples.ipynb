{
 "cells": [
  {
   "cell_type": "code",
   "execution_count": 3,
   "metadata": {},
   "outputs": [
    {
     "name": "stdout",
     "output_type": "stream",
     "text": [
      "Hellow World\n",
      "24 <class 'int'>\n",
      "product of 25 and 5 is 125\n"
     ]
    }
   ],
   "source": [
    "print('Hellow World')\n",
    "a=24\n",
    "print(a,type(a))\n",
    "num1=int(input('enter a number'))\n",
    "num2=int(input('enter a number'))\n",
    "product=num1*num2\n",
    "print(\"product of {} and {} is {}\".format(num1,num2,product))\n",
    "\n",
    "\n"
   ]
  },
  {
   "cell_type": "code",
   "execution_count": 5,
   "metadata": {},
   "outputs": [
    {
     "name": "stdout",
     "output_type": "stream",
     "text": [
      "<class 'int'> 438720734103053709860682333714068763014495535385182649\n",
      "<class 'int'>\n",
      "<class 'float'> 2.0\n",
      "<class 'float'> 0.1111\n"
     ]
    }
   ],
   "source": [
    "y=231323**10\n",
    "z=-50\n",
    "l=319\n",
    "print(type(y),y)\n",
    "print(type(z))\n",
    "\n",
    "a=2.0\n",
    "print(type(a),a)\n",
    "b=0.1111\n",
    "print(type(b),b)\n"
   ]
  },
  {
   "cell_type": "code",
   "execution_count": 6,
   "metadata": {},
   "outputs": [
    {
     "name": "stdout",
     "output_type": "stream",
     "text": [
      "stormlight achievers\n",
      "this is fantasy novel\n",
      "by robert silva\n"
     ]
    }
   ],
   "source": [
    "book=\"stormlight achievers\"\n",
    "summary='''this is fantasy novel\n",
    "by robert silva'''\n",
    "print(book)\n",
    "print(summary)\n"
   ]
  },
  {
   "cell_type": "code",
   "execution_count": 7,
   "metadata": {},
   "outputs": [
    {
     "name": "stdout",
     "output_type": "stream",
     "text": [
      "None <class 'NoneType'>\n"
     ]
    }
   ],
   "source": [
    "color=None\n",
    "print(color,type(color))\n"
   ]
  },
  {
   "cell_type": "code",
   "execution_count": 9,
   "metadata": {},
   "outputs": [
    {
     "name": "stdout",
     "output_type": "stream",
     "text": [
      "[1, 2, 3, 4, 5, 6] <class 'list'>\n",
      "[1, 5.5, True, 'python'] <class 'list'>\n",
      "(5, 10, 15, 20, 25) <class 'tuple'>\n",
      "{34, 12, 53, 44} <class 'set'>\n",
      "<class 'dict'> {'brand': 'Ford', 'color': 'red'}\n"
     ]
    }
   ],
   "source": [
    "a=[1,2,3,4,5,6]\n",
    "print(a,type(a))\n",
    "b=[1,5.5,True,'python']\n",
    "print(b,type(b))\n",
    "c=(5,10,15,20,25)\n",
    "print(c,type(c))\n",
    "d={12,34,53,44}\n",
    "print(d,type(d))\n",
    "car_info={\n",
    "    \"brand\": \"Ford\",\n",
    "    \"color\": \"red\"\n",
    "}\n",
    "print(type(car_info),car_info)\n"
   ]
  },
  {
   "cell_type": "code",
   "execution_count": null,
   "metadata": {},
   "outputs": [],
   "source": []
  }
 ],
 "metadata": {
  "interpreter": {
   "hash": "50b26f52a78e56bb50a957cf14aee04c6c923725037f0b0901654ff3139df2fa"
  },
  "kernelspec": {
   "display_name": "Python 3.10.4 64-bit",
   "language": "python",
   "name": "python3"
  },
  "language_info": {
   "codemirror_mode": {
    "name": "ipython",
    "version": 3
   },
   "file_extension": ".py",
   "mimetype": "text/x-python",
   "name": "python",
   "nbconvert_exporter": "python",
   "pygments_lexer": "ipython3",
   "version": "3.10.4"
  },
  "orig_nbformat": 4
 },
 "nbformat": 4,
 "nbformat_minor": 2
}

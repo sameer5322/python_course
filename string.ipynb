{
 "cells": [
  {
   "cell_type": "code",
   "execution_count": 1,
   "metadata": {},
   "outputs": [
    {
     "name": "stdout",
     "output_type": "stream",
     "text": [
      "hello\n",
      "hello\n",
      "hello\n",
      "hello, welcome to the world of python\n"
     ]
    }
   ],
   "source": [
    "# defining string in python\n",
    "# all of the following are equivalent\n",
    "my_string = 'hello'\n",
    "print(my_string)\n",
    "\n",
    "my_string = \"hello\"\n",
    "print(my_string)\n",
    "\n",
    "my_string = '''hello'''\n",
    "print(my_string)\n",
    "\n",
    "# triple quotes string can extend multiple linesd\n",
    "my_string = \"\"\"hello, welcome to the world of python\"\"\"\n",
    "print(my_string)\n"
   ]
  },
  {
   "cell_type": "code",
   "execution_count": 6,
   "metadata": {},
   "outputs": [
    {
     "name": "stdout",
     "output_type": "stream",
     "text": [
      "str =  digipodium\n",
      "str d\n"
     ]
    }
   ],
   "source": [
    "# Accessing string characters in python \n",
    "str = 'digipodium'\n",
    "print('str = ',str)\n",
    " \n",
    "# first character\n",
    "print('str',str[0])\n",
    "\n",
    "# second ch"
   ]
  },
  {
   "cell_type": "code",
   "execution_count": 4,
   "metadata": {},
   "outputs": [
    {
     "name": "stdout",
     "output_type": "stream",
     "text": [
      "m\n"
     ]
    }
   ],
   "source": [
    "word = 'stormlight archive'\n",
    "len(word)\n",
    "print(word[4])\n"
   ]
  },
  {
   "cell_type": "code",
   "execution_count": 9,
   "metadata": {},
   "outputs": [
    {
     "name": "stdout",
     "output_type": "stream",
     "text": [
      "pod\n",
      "podium\n"
     ]
    }
   ],
   "source": [
    "# getting a slice \n",
    "s = 'digipodium'\n",
    "slice1 = s[4:7]\n",
    "slice2 = s[4:10]\n",
    "print(slice1)\n",
    "print(slice2)"
   ]
  },
  {
   "cell_type": "code",
   "execution_count": 14,
   "metadata": {},
   "outputs": [
    {
     "data": {
      "text/plain": [
       "'SODIUM'"
      ]
     },
     "execution_count": 14,
     "metadata": {},
     "output_type": "execute_result"
    }
   ],
   "source": [
    "x = 'SODIUM CARBONATE'\n",
    "x[:6]"
   ]
  },
  {
   "cell_type": "code",
   "execution_count": 16,
   "metadata": {},
   "outputs": [
    {
     "data": {
      "text/plain": [
       "'CARBONATE'"
      ]
     },
     "execution_count": 16,
     "metadata": {},
     "output_type": "execute_result"
    }
   ],
   "source": [
    "x[7:]"
   ]
  },
  {
   "cell_type": "code",
   "execution_count": 18,
   "metadata": {},
   "outputs": [
    {
     "name": "stdout",
     "output_type": "stream",
     "text": [
      "A\n"
     ]
    }
   ],
   "source": [
    "x = chr(65)\n",
    "print(x)"
   ]
  },
  {
   "cell_type": "code",
   "execution_count": 20,
   "metadata": {},
   "outputs": [
    {
     "name": "stdout",
     "output_type": "stream",
     "text": [
      "ऽ\n"
     ]
    }
   ],
   "source": [
    "x = chr(2365)\n",
    "print(x)"
   ]
  },
  {
   "cell_type": "code",
   "execution_count": 1,
   "metadata": {},
   "outputs": [
    {
     "name": "stdout",
     "output_type": "stream",
     "text": [
      "き\n"
     ]
    }
   ],
   "source": [
    "x = chr(12365)\n",
    "print(x)"
   ]
  },
  {
   "cell_type": "code",
   "execution_count": 1,
   "metadata": {},
   "outputs": [
    {
     "name": "stdout",
     "output_type": "stream",
     "text": [
      "65\n"
     ]
    }
   ],
   "source": [
    "x = ord('A')\n",
    "print(x)"
   ]
  },
  {
   "cell_type": "code",
   "execution_count": 3,
   "metadata": {},
   "outputs": [
    {
     "data": {
      "text/plain": [
       "'yoyoyoyoyo'"
      ]
     },
     "execution_count": 3,
     "metadata": {},
     "output_type": "execute_result"
    }
   ],
   "source": [
    "#string concatenation\n",
    "#string duplication (cloning)\n",
    "'yo' * 5"
   ]
  },
  {
   "cell_type": "code",
   "execution_count": 5,
   "metadata": {},
   "outputs": [
    {
     "name": "stdout",
     "output_type": "stream",
     "text": [
      "___________\n",
      "heelo\n",
      "___________\n"
     ]
    }
   ],
   "source": [
    "print('_'*11)\n",
    "print('hello')\n",
    "print('_'*11)"
   ]
  },
  {
   "cell_type": "code",
   "execution_count": 6,
   "metadata": {},
   "outputs": [
    {
     "data": {
      "text/plain": [
       "['w', 'o', 'r', 'l', 'd', 's', 'i', 'n', 'g', 'e', 'r', 's']"
      ]
     },
     "execution_count": 6,
     "metadata": {},
     "output_type": "execute_result"
    }
   ],
   "source": [
    "w = \"worldsingers\"\n",
    "list(w)"
   ]
  },
  {
   "cell_type": "code",
   "execution_count": 7,
   "metadata": {},
   "outputs": [
    {
     "data": {
      "text/plain": [
       "'world'"
      ]
     },
     "execution_count": 7,
     "metadata": {},
     "output_type": "execute_result"
    }
   ],
   "source": [
    "#slicing\n",
    "w[:5]"
   ]
  },
  {
   "cell_type": "code",
   "execution_count": 8,
   "metadata": {},
   "outputs": [
    {
     "data": {
      "text/plain": [
       "'olsnes'"
      ]
     },
     "execution_count": 8,
     "metadata": {},
     "output_type": "execute_result"
    }
   ],
   "source": [
    "w[1::2]   #[string:end:jump]  #odd indexes"
   ]
  },
  {
   "cell_type": "code",
   "execution_count": 9,
   "metadata": {},
   "outputs": [
    {
     "data": {
      "text/plain": [
       "'wrdigr'"
      ]
     },
     "execution_count": 9,
     "metadata": {},
     "output_type": "execute_result"
    }
   ],
   "source": [
    "w[::2] # even indexes"
   ]
  },
  {
   "cell_type": "code",
   "execution_count": 10,
   "metadata": {},
   "outputs": [
    {
     "data": {
      "text/plain": [
       "'sregnisdlrow'"
      ]
     },
     "execution_count": 10,
     "metadata": {},
     "output_type": "execute_result"
    }
   ],
   "source": [
    "w[::-1] # reverse string"
   ]
  },
  {
   "cell_type": "code",
   "execution_count": 12,
   "metadata": {},
   "outputs": [
    {
     "data": {
      "text/plain": [
       "'                                                                    worldsingers'"
      ]
     },
     "execution_count": 12,
     "metadata": {},
     "output_type": "execute_result"
    }
   ],
   "source": [
    "w.rjust(80\n",
    ")"
   ]
  },
  {
   "cell_type": "code",
   "execution_count": 20,
   "metadata": {},
   "outputs": [
    {
     "name": "stdout",
     "output_type": "stream",
     "text": [
      "         O\n",
      "        OO\n",
      "       OOO\n",
      "      OOOO\n",
      "     OOOOO\n"
     ]
    }
   ],
   "source": [
    "for i in range(1,6):\n",
    "    print(('O' * i).rjust(10))"
   ]
  },
  {
   "cell_type": "code",
   "execution_count": 19,
   "metadata": {},
   "outputs": [
    {
     "name": "stdout",
     "output_type": "stream",
     "text": [
      "              T               \n",
      "            T T T             \n",
      "          T T T T T           \n",
      "        T T T T T T T         \n",
      "      T T T T T T T T T       \n",
      "    T T T T T T T T T T T     \n"
     ]
    }
   ],
   "source": [
    "for i in range(1,13,2):\n",
    "    print((i * 'T ').center(30))   # center alignment"
   ]
  },
  {
   "cell_type": "code",
   "execution_count": 29,
   "metadata": {},
   "outputs": [
    {
     "name": "stdout",
     "output_type": "stream",
     "text": [
      "       0       \n",
      "       **      \n",
      "      000      \n",
      "      ****     \n",
      "     00000     \n",
      "     ******    \n",
      "    0000000    \n",
      "    ********   \n",
      "   000000000   \n",
      "   **********  \n",
      "  00000000000  \n",
      "  ************ \n"
     ]
    }
   ],
   "source": [
    "##  my logic but this is wrong\n",
    "for i in range(1,13,1):      \n",
    "    if i % 2 == 0:\n",
    "        print((i * '*').center(15))\n",
    "    else:\n",
    "        print((i * '0').center(15)) \n"
   ]
  },
  {
   "cell_type": "code",
   "execution_count": 33,
   "metadata": {},
   "outputs": [
    {
     "name": "stdout",
     "output_type": "stream",
     "text": [
      "                   O                    \n",
      "                *  *  *                 \n",
      "             O  O  O  O  O              \n",
      "          *  *  *  *  *  *  *           \n",
      "       O  O  O  O  O  O  O  O  O        \n",
      "    *  *  *  *  *  *  *  *  *  *  *     \n",
      " O  O  O  O  O  O  O  O  O  O  O  O  O  \n"
     ]
    }
   ],
   "source": [
    "for i,v in enumerate(range(1,15,2)):\n",
    "    if i % 2 == 0:\n",
    "        print((v * ' O ').center(40))\n",
    "    else:\n",
    "        print((v * ' * ').center(40))"
   ]
  },
  {
   "cell_type": "code",
   "execution_count": 34,
   "metadata": {},
   "outputs": [
    {
     "name": "stdout",
     "output_type": "stream",
     "text": [
      "\u001b[1;31mSignature:\u001b[0m \u001b[0mw\u001b[0m\u001b[1;33m.\u001b[0m\u001b[0mcenter\u001b[0m\u001b[1;33m(\u001b[0m\u001b[0mwidth\u001b[0m\u001b[1;33m,\u001b[0m \u001b[0mfillchar\u001b[0m\u001b[1;33m=\u001b[0m\u001b[1;34m' '\u001b[0m\u001b[1;33m,\u001b[0m \u001b[1;33m/\u001b[0m\u001b[1;33m)\u001b[0m\u001b[1;33m\u001b[0m\u001b[1;33m\u001b[0m\u001b[0m\n",
      "\u001b[1;31mDocstring:\u001b[0m\n",
      "Return a centered string of length width.\n",
      "\n",
      "Padding is done using the specified fill character (default is a space).\n",
      "\u001b[1;31mType:\u001b[0m      builtin_function_or_method\n"
     ]
    }
   ],
   "source": [
    "w.center?"
   ]
  },
  {
   "cell_type": "code",
   "execution_count": 35,
   "metadata": {},
   "outputs": [
    {
     "name": "stdout",
     "output_type": "stream",
     "text": [
      "XXXXXXXXXXXXXXXXXXX O XXXXXXXXXXXXXXXXXXX\n",
      "XXXXXXXXXXXXXXXX *  *  * XXXXXXXXXXXXXXXX\n",
      "XXXXXXXXXXXXX O  O  O  O  O XXXXXXXXXXXXX\n",
      "XXXXXXXXXX *  *  *  *  *  *  * XXXXXXXXXX\n",
      "XXXXXXX O  O  O  O  O  O  O  O  O XXXXXXX\n",
      "XXXX *  *  *  *  *  *  *  *  *  *  * XXXX\n",
      "X O  O  O  O  O  O  O  O  O  O  O  O  O X\n"
     ]
    }
   ],
   "source": [
    "### fillchar is used to fill all the spaces ###\n",
    "for i,v in enumerate(range(1,15,2)):\n",
    "    if i % 2 == 0:\n",
    "        print((v * ' O ').center(41,'X'))\n",
    "    else:\n",
    "        print((v * ' * ').center(41,'X'))"
   ]
  },
  {
   "cell_type": "code",
   "execution_count": 2,
   "metadata": {},
   "outputs": [
    {
     "data": {
      "text/plain": [
       "1305"
      ]
     },
     "execution_count": 2,
     "metadata": {},
     "output_type": "execute_result"
    }
   ],
   "source": [
    "#string functions\n",
    "story = '''There is a story in the Ramayana: Lord Rama needed the help of Garuda, one of his devotees, at a time when Rama was under the spell of a poison arrow. Garuda saved him from that. After he did this, a doubt came in his mind. “I thought Rama was my savior all these years. I thought he was going to help me, but today if I did not save him, he would have died. Today he needed my help and I saved him. How can I depend on him? I seem to be more powerful than he is. He seems to be ordinary, for without me he would have died. Both he and his brother would have died in the war.”\n",
    "\n",
    "When this doubt came in Garuda, it kept eating at him. When doubt starts to overtake the mind, the consciousness starts to go down. Doubt is one thing that can eat and destroy you. When doubt enters the soul, they say that the person will have neither success in this world or the next world, the inner world. Such was the doubt of Garuda. He was in such dismay because all his trust had been shaken. What could he do now? He could not tell Rama that he doubted whether he could continue to be his devotee because he now perceived Rama to be weaker than himself. He could not dare to go and ask him. So he quietly went and asked Narada, another teacher who was the exponent of divine love, and the author of the Bhakti Sutras. '''\n",
    "len(story)"
   ]
  },
  {
   "cell_type": "code",
   "execution_count": 40,
   "metadata": {},
   "outputs": [
    {
     "name": "stdout",
     "output_type": "stream",
     "text": [
      "['There', 'is', 'a', 'story', 'in', 'the', 'Ramayana:', 'Lord', 'Rama', 'needed', 'the', 'help', 'of', 'Garuda,', 'one', 'of', 'his', 'devotees,', 'at', 'a', 'time', 'when', 'Rama', 'was', 'under', 'the', 'spell', 'of', 'a', 'poison', 'arrow.', 'Garuda', 'saved', 'him', 'from', 'that.', 'After', 'he', 'did', 'this,', 'a', 'doubt', 'came', 'in', 'his', 'mind.', '“I', 'thought', 'Rama', 'was', 'my', 'savior', 'all', 'these', 'years.', 'I', 'thought', 'he', 'was', 'going', 'to', 'help', 'me,', 'but', 'today', 'if', 'I', 'did', 'not', 'save', 'him,', 'he', 'would', 'have', 'died.', 'Today', 'he', 'needed', 'my', 'help', 'and', 'I', 'saved', 'him.', 'How', 'can', 'I', 'depend', 'on', 'him?', 'I', 'seem', 'to', 'be', 'more', 'powerful', 'than', 'he', 'is.', 'He', 'seems', 'to', 'be', 'ordinary,', 'for', 'without', 'me', 'he', 'would', 'have', 'died.', 'Both', 'he', 'and', 'his', 'brother', 'would', 'have', 'died', 'in', 'the', 'war.”', 'When', 'this', 'doubt', 'came', 'in', 'Garuda,', 'it', 'kept', 'eating', 'at', 'him.', 'When', 'doubt', 'starts', 'to', 'overtake', 'the', 'mind,', 'the', 'consciousness', 'starts', 'to', 'go', 'down.', 'Doubt', 'is', 'one', 'thing', 'that', 'can', 'eat', 'and', 'destroy', 'you.', 'When', 'doubt', 'enters', 'the', 'soul,', 'they', 'say', 'that', 'the', 'person', 'will', 'have', 'neither', 'success', 'in', 'this', 'world', 'or', 'the', 'next', 'world,', 'the', 'inner', 'world.', 'Such', 'was', 'the', 'doubt', 'of', 'Garuda.', 'He', 'was', 'in', 'such', 'dismay', 'because', 'all', 'his', 'trust', 'had', 'been', 'shaken.', 'What', 'could', 'he', 'do', 'now?', 'He', 'could', 'not', 'tell', 'Rama', 'that', 'he', 'doubted', 'whether', 'he', 'could', 'continue', 'to', 'be', 'his', 'devotee', 'because', 'he', 'now', 'perceived', 'Rama', 'to', 'be', 'weaker', 'than', 'himself.', 'He', 'could', 'not', 'dare', 'to', 'go', 'and', 'ask', 'him.', 'So', 'he', 'quietly', 'went', 'and', 'asked', 'Narada,', 'another', 'teacher', 'who', 'was', 'the', 'exponent', 'of', 'divine', 'love,', 'and', 'the', 'author', 'of', 'the', 'Bhakti', 'Sutras.']\n"
     ]
    }
   ],
   "source": [
    "print(story.split())"
   ]
  },
  {
   "cell_type": "code",
   "execution_count": 41,
   "metadata": {},
   "outputs": [
    {
     "name": "stdout",
     "output_type": "stream",
     "text": [
      "261\n"
     ]
    }
   ],
   "source": [
    "words = story.split()\n",
    "print(len(words))"
   ]
  },
  {
   "cell_type": "code",
   "execution_count": 42,
   "metadata": {},
   "outputs": [
    {
     "data": {
      "text/plain": [
       "['There is a story in the Ramayana: Lord Rama needed the help of Garuda, one of his devotees, at a time when Rama was under the spell of a poison arrow',\n",
       " ' Garuda saved him from that',\n",
       " ' After he did this, a doubt came in his mind',\n",
       " ' “I thought Rama was my savior all these years',\n",
       " ' I thought he was going to help me, but today if I did not save him, he would have died',\n",
       " ' Today he needed my help and I saved him',\n",
       " ' How can I depend on him? I seem to be more powerful than he is',\n",
       " ' He seems to be ordinary, for without me he would have died',\n",
       " ' Both he and his brother would have died in the war',\n",
       " '”\\n\\nWhen this doubt came in Garuda, it kept eating at him',\n",
       " ' When doubt starts to overtake the mind, the consciousness starts to go down',\n",
       " ' Doubt is one thing that can eat and destroy you',\n",
       " ' When doubt enters the soul, they say that the person will have neither success in this world or the next world, the inner world',\n",
       " ' Such was the doubt of Garuda',\n",
       " ' He was in such dismay because all his trust had been shaken',\n",
       " ' What could he do now? He could not tell Rama that he doubted whether he could continue to be his devotee because he now perceived Rama to be weaker than himself',\n",
       " ' He could not dare to go and ask him',\n",
       " ' So he quietly went and asked Narada, another teacher who was the exponent of divine love, and the author of the Bhakti Sutras',\n",
       " ' ']"
      ]
     },
     "execution_count": 42,
     "metadata": {},
     "output_type": "execute_result"
    }
   ],
   "source": [
    "story.split('.')"
   ]
  },
  {
   "cell_type": "code",
   "execution_count": 43,
   "metadata": {},
   "outputs": [
    {
     "data": {
      "text/plain": [
       "['There is a story in the Ramayana: Lord Rama needed the help ',\n",
       " ' Garuda, one ',\n",
       " ' his devotees, at a time when Rama was under the spell ',\n",
       " ' a poison arrow. Garuda saved him from that. After he did this, a doubt came in his mind. “I thought Rama was my savior all these years. I thought he was going to help me, but today if I did not save him, he would have died. Today he needed my help and I saved him. How can I depend on him? I seem to be more powerful than he is. He seems to be ordinary, for without me he would have died. Both he and his brother would have died in the war.”\\n\\nWhen this doubt came in Garuda, it kept eating at him. When doubt starts to overtake the mind, the consciousness starts to go down. Doubt is one thing that can eat and destroy you. When doubt enters the soul, they say that the person will have neither success in this world or the next world, the inner world. Such was the doubt ',\n",
       " ' Garuda. He was in such dismay because all his trust had been shaken. What could he do now? He could not tell Rama that he doubted whether he could continue to be his devotee because he now perceived Rama to be weaker than himself. He could not dare to go and ask him. So he quietly went and asked Narada, another teacher who was the exponent ',\n",
       " ' divine love, and the author ',\n",
       " ' the Bhakti Sutras. ']"
      ]
     },
     "execution_count": 43,
     "metadata": {},
     "output_type": "execute_result"
    }
   ],
   "source": [
    "story.split('of')"
   ]
  },
  {
   "cell_type": "code",
   "execution_count": 44,
   "metadata": {},
   "outputs": [
    {
     "data": {
      "text/plain": [
       "['There',\n",
       " 'is',\n",
       " 'a',\n",
       " 'story',\n",
       " 'in',\n",
       " 'the',\n",
       " 'Ramayana:',\n",
       " 'Lord',\n",
       " 'Rama',\n",
       " 'needed',\n",
       " 'the',\n",
       " 'help',\n",
       " 'of',\n",
       " 'Garuda,',\n",
       " 'one',\n",
       " 'of',\n",
       " 'his',\n",
       " 'devotees,',\n",
       " 'at',\n",
       " 'a',\n",
       " 'time',\n",
       " 'when',\n",
       " 'Rama',\n",
       " 'was',\n",
       " 'under',\n",
       " 'the',\n",
       " 'spell',\n",
       " 'of',\n",
       " 'a',\n",
       " 'poison',\n",
       " 'arrow.',\n",
       " 'Garuda',\n",
       " 'saved',\n",
       " 'him',\n",
       " 'from',\n",
       " 'that.',\n",
       " 'After',\n",
       " 'he',\n",
       " 'did',\n",
       " 'this,',\n",
       " 'a',\n",
       " 'doubt',\n",
       " 'came',\n",
       " 'in',\n",
       " 'his',\n",
       " 'mind.',\n",
       " '“I',\n",
       " 'thought',\n",
       " 'Rama',\n",
       " 'was',\n",
       " 'my',\n",
       " 'savior',\n",
       " 'all',\n",
       " 'these',\n",
       " 'years.',\n",
       " 'I',\n",
       " 'thought',\n",
       " 'he',\n",
       " 'was',\n",
       " 'going',\n",
       " 'to',\n",
       " 'help',\n",
       " 'me,',\n",
       " 'but',\n",
       " 'today',\n",
       " 'if',\n",
       " 'I',\n",
       " 'did',\n",
       " 'not',\n",
       " 'save',\n",
       " 'him,',\n",
       " 'he',\n",
       " 'would',\n",
       " 'have',\n",
       " 'died.',\n",
       " 'Today',\n",
       " 'he',\n",
       " 'needed',\n",
       " 'my',\n",
       " 'help',\n",
       " 'and',\n",
       " 'I',\n",
       " 'saved',\n",
       " 'him.',\n",
       " 'How',\n",
       " 'can',\n",
       " 'I',\n",
       " 'depend',\n",
       " 'on',\n",
       " 'him?',\n",
       " 'I',\n",
       " 'seem',\n",
       " 'to',\n",
       " 'be',\n",
       " 'more',\n",
       " 'powerful',\n",
       " 'than',\n",
       " 'he',\n",
       " 'is.',\n",
       " 'He',\n",
       " 'seems',\n",
       " 'to',\n",
       " 'be',\n",
       " 'ordinary,',\n",
       " 'for',\n",
       " 'without',\n",
       " 'me',\n",
       " 'he',\n",
       " 'would',\n",
       " 'have',\n",
       " 'died.',\n",
       " 'Both',\n",
       " 'he',\n",
       " 'and',\n",
       " 'his',\n",
       " 'brother',\n",
       " 'would',\n",
       " 'have',\n",
       " 'died',\n",
       " 'in',\n",
       " 'the',\n",
       " 'war.”',\n",
       " 'When',\n",
       " 'this',\n",
       " 'doubt',\n",
       " 'came',\n",
       " 'in',\n",
       " 'Garuda,',\n",
       " 'it',\n",
       " 'kept',\n",
       " 'eating',\n",
       " 'at',\n",
       " 'him.',\n",
       " 'When',\n",
       " 'doubt',\n",
       " 'starts',\n",
       " 'to',\n",
       " 'overtake',\n",
       " 'the',\n",
       " 'mind,',\n",
       " 'the',\n",
       " 'consciousness',\n",
       " 'starts',\n",
       " 'to',\n",
       " 'go',\n",
       " 'down.',\n",
       " 'Doubt',\n",
       " 'is',\n",
       " 'one',\n",
       " 'thing',\n",
       " 'that',\n",
       " 'can',\n",
       " 'eat',\n",
       " 'and',\n",
       " 'destroy',\n",
       " 'you.',\n",
       " 'When',\n",
       " 'doubt',\n",
       " 'enters',\n",
       " 'the',\n",
       " 'soul,',\n",
       " 'they',\n",
       " 'say',\n",
       " 'that',\n",
       " 'the',\n",
       " 'person',\n",
       " 'will',\n",
       " 'have',\n",
       " 'neither',\n",
       " 'success',\n",
       " 'in',\n",
       " 'this',\n",
       " 'world',\n",
       " 'or',\n",
       " 'the',\n",
       " 'next',\n",
       " 'world,',\n",
       " 'the',\n",
       " 'inner',\n",
       " 'world.',\n",
       " 'Such',\n",
       " 'was',\n",
       " 'the',\n",
       " 'doubt',\n",
       " 'of',\n",
       " 'Garuda.',\n",
       " 'He',\n",
       " 'was',\n",
       " 'in',\n",
       " 'such',\n",
       " 'dismay',\n",
       " 'because',\n",
       " 'all',\n",
       " 'his',\n",
       " 'trust',\n",
       " 'had',\n",
       " 'been',\n",
       " 'shaken.',\n",
       " 'What',\n",
       " 'could',\n",
       " 'he',\n",
       " 'do',\n",
       " 'now?',\n",
       " 'He',\n",
       " 'could',\n",
       " 'not',\n",
       " 'tell',\n",
       " 'Rama',\n",
       " 'that',\n",
       " 'he',\n",
       " 'doubted',\n",
       " 'whether',\n",
       " 'he',\n",
       " 'could',\n",
       " 'continue',\n",
       " 'to',\n",
       " 'be',\n",
       " 'his',\n",
       " 'devotee',\n",
       " 'because',\n",
       " 'he',\n",
       " 'now',\n",
       " 'perceived',\n",
       " 'Rama',\n",
       " 'to',\n",
       " 'be',\n",
       " 'weaker',\n",
       " 'than',\n",
       " 'himself.',\n",
       " 'He',\n",
       " 'could',\n",
       " 'not',\n",
       " 'dare',\n",
       " 'to',\n",
       " 'go',\n",
       " 'and',\n",
       " 'ask',\n",
       " 'him.',\n",
       " 'So',\n",
       " 'he',\n",
       " 'quietly',\n",
       " 'went',\n",
       " 'and',\n",
       " 'asked',\n",
       " 'Narada,',\n",
       " 'another',\n",
       " 'teacher',\n",
       " 'who',\n",
       " 'was',\n",
       " 'the',\n",
       " 'exponent',\n",
       " 'of',\n",
       " 'divine',\n",
       " 'love,',\n",
       " 'and',\n",
       " 'the',\n",
       " 'author',\n",
       " 'of',\n",
       " 'the',\n",
       " 'Bhakti',\n",
       " 'Sutras.']"
      ]
     },
     "execution_count": 44,
     "metadata": {},
     "output_type": "execute_result"
    }
   ],
   "source": [
    "story.split()"
   ]
  },
  {
   "cell_type": "code",
   "execution_count": 49,
   "metadata": {},
   "outputs": [
    {
     "data": {
      "text/plain": [
       "['There is a story in the Ramayana: Lord Rama needed the help of Garuda, one of his devotees, at a time when Rama was under the spell of a poison arrow',\n",
       " ' Garuda saved him from that',\n",
       " ' After he did this, a doubt came in his mind',\n",
       " ' “I thought Rama was my savior all these years',\n",
       " ' I thought he was going to help me, but today if I did not save him, he would have died',\n",
       " ' Today he needed my help and I saved him',\n",
       " ' How can I depend on him? I seem to be more powerful than he is',\n",
       " ' He seems to be ordinary, for without me he would have died',\n",
       " ' Both he and his brother would have died in the war',\n",
       " '”\\n\\nWhen this doubt came in Garuda, it kept eating at him',\n",
       " ' When doubt starts to overtake the mind, the consciousness starts to go down',\n",
       " ' Doubt is one thing that can eat and destroy you',\n",
       " ' When doubt enters the soul, they say that the person will have neither success in this world or the next world, the inner world. Such was the doubt of Garuda. He was in such dismay because all his trust had been shaken. What could he do now? He could not tell Rama that he doubted whether he could continue to be his devotee because he now perceived Rama to be weaker than himself. He could not dare to go and ask him. So he quietly went and asked Narada, another teacher who was the exponent of divine love, and the author of the Bhakti Sutras. ']"
      ]
     },
     "execution_count": 49,
     "metadata": {},
     "output_type": "execute_result"
    }
   ],
   "source": [
    "story.split('.',12)"
   ]
  },
  {
   "cell_type": "code",
   "execution_count": 50,
   "metadata": {},
   "outputs": [
    {
     "name": "stdout",
     "output_type": "stream",
     "text": [
      "\u001b[1;31mSignature:\u001b[0m \u001b[0mstory\u001b[0m\u001b[1;33m.\u001b[0m\u001b[0msplit\u001b[0m\u001b[1;33m(\u001b[0m\u001b[0msep\u001b[0m\u001b[1;33m=\u001b[0m\u001b[1;32mNone\u001b[0m\u001b[1;33m,\u001b[0m \u001b[0mmaxsplit\u001b[0m\u001b[1;33m=\u001b[0m\u001b[1;33m-\u001b[0m\u001b[1;36m1\u001b[0m\u001b[1;33m)\u001b[0m\u001b[1;33m\u001b[0m\u001b[1;33m\u001b[0m\u001b[0m\n",
      "\u001b[1;31mDocstring:\u001b[0m\n",
      "Return a list of the words in the string, using sep as the delimiter string.\n",
      "\n",
      "sep\n",
      "  The delimiter according which to split the string.\n",
      "  None (the default value) means split according to any whitespace,\n",
      "  and discard empty strings from the result.\n",
      "maxsplit\n",
      "  Maximum number of splits to do.\n",
      "  -1 (the default value) means no limit.\n",
      "\u001b[1;31mType:\u001b[0m      builtin_function_or_method\n"
     ]
    }
   ],
   "source": [
    "story.split?"
   ]
  },
  {
   "cell_type": "code",
   "execution_count": 51,
   "metadata": {},
   "outputs": [],
   "source": [
    "wordlist = ['chocolate','is','good','for','health']"
   ]
  },
  {
   "cell_type": "code",
   "execution_count": 52,
   "metadata": {},
   "outputs": [
    {
     "data": {
      "text/plain": [
       "'chocolate is good for health'"
      ]
     },
     "execution_count": 52,
     "metadata": {},
     "output_type": "execute_result"
    }
   ],
   "source": [
    "' '.join(wordlist)"
   ]
  },
  {
   "cell_type": "code",
   "execution_count": 54,
   "metadata": {},
   "outputs": [
    {
     "data": {
      "text/plain": [
       "'There is a story in the Ramayana: Lord Rama needed the help of Garuda, one of his devotees, at a time when Rama was under the spell of a poison arrow. Garuda saved him from that. After he did this, a doubt came in his mind. “I thought Rama was my savior all these years. I thought he was going to help me, but today if I did not save him, he would have died. Today he needed my help and I saved him. How can I depend on him? I seem to be more powerful than he is. He seems to be ordinary, for without me he would have died. Both he and his brother would have died in the war.”\\n\\nWhen this doubt came in Garuda, it kept eating at him. When doubt starts to overtake the mind, the consciousness starts to go down. Doubt is one thing that can eat and destroy you. When doubt enters the soul, they say that the person will have neither success in this world or the next world, the inner world. Such was the doubt of Garuda. He was in such dismay because all his trust had been shaken. What could he do now? He could not tell Rama that he doubted whether he could continue to be his devotee because he now perceived Rama to be weaker than himself. He could not dare to go and ask him. So he quietly went and asked Narada, another teacher who was the exponent of divine love, and the author of the Bhakti Sutras. '"
      ]
     },
     "execution_count": 54,
     "metadata": {},
     "output_type": "execute_result"
    }
   ],
   "source": [
    "story"
   ]
  },
  {
   "cell_type": "code",
   "execution_count": 57,
   "metadata": {},
   "outputs": [
    {
     "data": {
      "text/plain": [
       "'There is a story in the Ramayana: Lord Rama needed the help of Garuda, one of his devotees, at a time when Rama was under the spell of a poison arrow? Garuda saved him from that? After he did this, a doubt came in his mind? “I thought Rama was my savior all these years? I thought he was going to help me, but today if I did not save him, he would have died? Today he needed my help and I saved him? How can I depend on him? I seem to be more powerful than he is? He seems to be ordinary, for without me he would have died? Both he and his brother would have died in the war?”\\n\\nWhen this doubt came in Garuda, it kept eating at him? When doubt starts to overtake the mind, the consciousness starts to go down? Doubt is one thing that can eat and destroy you? When doubt enters the soul, they say that the person will have neither success in this world or the next world, the inner world? Such was the doubt of Garuda? He was in such dismay because all his trust had been shaken? What could he do now? He could not tell Rama that he doubted whether he could continue to be his devotee because he now perceived Rama to be weaker than himself? He could not dare to go and ask him? So he quietly went and asked Narada, another teacher who was the exponent of divine love, and the author of the Bhakti Sutras? '"
      ]
     },
     "execution_count": 57,
     "metadata": {},
     "output_type": "execute_result"
    }
   ],
   "source": [
    "story.replace('a','o')\n",
    "story.replace('.','?')\n"
   ]
  },
  {
   "cell_type": "code",
   "execution_count": 59,
   "metadata": {},
   "outputs": [
    {
     "data": {
      "text/plain": [
       "'There is a story in the Ramayana: Lord Rama needed the help of Garuda, one of his devotees, at a time when Rama was under the spell of a poison arrow?? Garuda saved him from that?? After he did this, a doubt came in his mind?? “I thought Rama was my savior all these years. I thought he was going to help me, but today if I did not save him, he would have died. Today he needed my help and I saved him. How can I depend on him? I seem to be more powerful than he is. He seems to be ordinary, for without me he would have died. Both he and his brother would have died in the war.”\\n\\nWhen this doubt came in Garuda, it kept eating at him. When doubt starts to overtake the mind, the consciousness starts to go down. Doubt is one thing that can eat and destroy you. When doubt enters the soul, they say that the person will have neither success in this world or the next world, the inner world. Such was the doubt of Garuda. He was in such dismay because all his trust had been shaken. What could he do now? He could not tell Rama that he doubted whether he could continue to be his devotee because he now perceived Rama to be weaker than himself. He could not dare to go and ask him. So he quietly went and asked Narada, another teacher who was the exponent of divine love, and the author of the Bhakti Sutras. '"
      ]
     },
     "execution_count": 59,
     "metadata": {},
     "output_type": "execute_result"
    }
   ],
   "source": [
    "story.replace('.','??',3)   # replaces only first three .  #"
   ]
  },
  {
   "cell_type": "code",
   "execution_count": 60,
   "metadata": {},
   "outputs": [
    {
     "data": {
      "text/plain": [
       "'There is a story in the Ramayana: Lord Rama needed the help of Garuda, one of his devotees, at a time when Rama was under the spell of a poison arrow. Garuda saved him from that. After he did this, a doubt came in his mind. “I thought Rama was my savior all these years. I thought he was going to help me, but today if I did not save him, he would have died. Today he needed my help and I saved him. How can I depend on him? I seem to be more powerful than he is. He seems to be ordinary, for without me he would have died. Both he and his brother would have died in the war.”\\n\\nWhen this doubt came in Garuda, it kept eating at him. When doubt starts to overtake the mind, the consciousness starts to go down. Doubt is one thing that can eat and destroy you. When doubt enters the soul, they say that the person will have neither success in this world or the next world, the inner world. Such was the doubt of Garuda. He was in such dismay because all his trust had been shaken. What could he do now? He could not tell Rama that he doubted whether he could continue to be his devotee because he now perceived Rama to be weaker than himself. He could not dare to go and ask him. So he quietly went and asked Narada, another teacher who was the exponent of divine love, and the author of the Bhakti Sutras. '"
      ]
     },
     "execution_count": 60,
     "metadata": {},
     "output_type": "execute_result"
    }
   ],
   "source": [
    "story"
   ]
  },
  {
   "cell_type": "code",
   "execution_count": 1,
   "metadata": {},
   "outputs": [
    {
     "ename": "NameError",
     "evalue": "name 'story' is not defined",
     "output_type": "error",
     "traceback": [
      "\u001b[1;31m---------------------------------------------------------------------------\u001b[0m",
      "\u001b[1;31mNameError\u001b[0m                                 Traceback (most recent call last)",
      "\u001b[1;32mc:\\Users\\HP-PC\\OneDrive\\Desktop\\python\\string.ipynb Cell 39'\u001b[0m in \u001b[0;36m<cell line: 1>\u001b[1;34m()\u001b[0m\n\u001b[1;32m----> <a href='vscode-notebook-cell:/c%3A/Users/HP-PC/OneDrive/Desktop/python/string.ipynb#ch0000038?line=0'>1</a>\u001b[0m story\u001b[39m.\u001b[39mupper()\n",
      "\u001b[1;31mNameError\u001b[0m: name 'story' is not defined"
     ]
    }
   ],
   "source": [
    "\n"
   ]
  },
  {
   "cell_type": "code",
   "execution_count": 3,
   "metadata": {},
   "outputs": [
    {
     "data": {
      "text/plain": [
       "'THERE IS A STORY IN THE RAMAYANA: LORD RAMA NEEDED THE HELP OF GARUDA, ONE OF HIS DEVOTEES, AT A TIME WHEN RAMA WAS UNDER THE SPELL OF A POISON ARROW. GARUDA SAVED HIM FROM THAT. AFTER HE DID THIS, A DOUBT CAME IN HIS MIND. “I THOUGHT RAMA WAS MY SAVIOR ALL THESE YEARS. I THOUGHT HE WAS GOING TO HELP ME, BUT TODAY IF I DID NOT SAVE HIM, HE WOULD HAVE DIED. TODAY HE NEEDED MY HELP AND I SAVED HIM. HOW CAN I DEPEND ON HIM? I SEEM TO BE MORE POWERFUL THAN HE IS. HE SEEMS TO BE ORDINARY, FOR WITHOUT ME HE WOULD HAVE DIED. BOTH HE AND HIS BROTHER WOULD HAVE DIED IN THE WAR.”\\n\\nWHEN THIS DOUBT CAME IN GARUDA, IT KEPT EATING AT HIM. WHEN DOUBT STARTS TO OVERTAKE THE MIND, THE CONSCIOUSNESS STARTS TO GO DOWN. DOUBT IS ONE THING THAT CAN EAT AND DESTROY YOU. WHEN DOUBT ENTERS THE SOUL, THEY SAY THAT THE PERSON WILL HAVE NEITHER SUCCESS IN THIS WORLD OR THE NEXT WORLD, THE INNER WORLD. SUCH WAS THE DOUBT OF GARUDA. HE WAS IN SUCH DISMAY BECAUSE ALL HIS TRUST HAD BEEN SHAKEN. WHAT COULD HE DO NOW? HE COULD NOT TELL RAMA THAT HE DOUBTED WHETHER HE COULD CONTINUE TO BE HIS DEVOTEE BECAUSE HE NOW PERCEIVED RAMA TO BE WEAKER THAN HIMSELF. HE COULD NOT DARE TO GO AND ASK HIM. SO HE QUIETLY WENT AND ASKED NARADA, ANOTHER TEACHER WHO WAS THE EXPONENT OF DIVINE LOVE, AND THE AUTHOR OF THE BHAKTI SUTRAS. '"
      ]
     },
     "execution_count": 3,
     "metadata": {},
     "output_type": "execute_result"
    }
   ],
   "source": [
    "story.upper()\n"
   ]
  },
  {
   "cell_type": "code",
   "execution_count": 4,
   "metadata": {},
   "outputs": [
    {
     "data": {
      "text/plain": [
       "'there is a story in the ramayana: lord rama needed the help of garuda, one of his devotees, at a time when rama was under the spell of a poison arrow. garuda saved him from that. after he did this, a doubt came in his mind. “i thought rama was my savior all these years. i thought he was going to help me, but today if i did not save him, he would have died. today he needed my help and i saved him. how can i depend on him? i seem to be more powerful than he is. he seems to be ordinary, for without me he would have died. both he and his brother would have died in the war.”\\n\\nwhen this doubt came in garuda, it kept eating at him. when doubt starts to overtake the mind, the consciousness starts to go down. doubt is one thing that can eat and destroy you. when doubt enters the soul, they say that the person will have neither success in this world or the next world, the inner world. such was the doubt of garuda. he was in such dismay because all his trust had been shaken. what could he do now? he could not tell rama that he doubted whether he could continue to be his devotee because he now perceived rama to be weaker than himself. he could not dare to go and ask him. so he quietly went and asked narada, another teacher who was the exponent of divine love, and the author of the bhakti sutras. '"
      ]
     },
     "execution_count": 4,
     "metadata": {},
     "output_type": "execute_result"
    }
   ],
   "source": [
    "story.lower()"
   ]
  },
  {
   "cell_type": "code",
   "execution_count": 6,
   "metadata": {},
   "outputs": [
    {
     "data": {
      "text/plain": [
       "'There is a story in the ramayana: lord rama needed the help of garuda, one of his devotees, at a time when rama was under the spell of a poison arrow. garuda saved him from that. after he did this, a doubt came in his mind. “i thought rama was my savior all these years. i thought he was going to help me, but today if i did not save him, he would have died. today he needed my help and i saved him. how can i depend on him? i seem to be more powerful than he is. he seems to be ordinary, for without me he would have died. both he and his brother would have died in the war.”\\n\\nwhen this doubt came in garuda, it kept eating at him. when doubt starts to overtake the mind, the consciousness starts to go down. doubt is one thing that can eat and destroy you. when doubt enters the soul, they say that the person will have neither success in this world or the next world, the inner world. such was the doubt of garuda. he was in such dismay because all his trust had been shaken. what could he do now? he could not tell rama that he doubted whether he could continue to be his devotee because he now perceived rama to be weaker than himself. he could not dare to go and ask him. so he quietly went and asked narada, another teacher who was the exponent of divine love, and the author of the bhakti sutras.'"
      ]
     },
     "execution_count": 6,
     "metadata": {},
     "output_type": "execute_result"
    }
   ],
   "source": [
    "story.strip().capitalize()"
   ]
  },
  {
   "cell_type": "code",
   "execution_count": 7,
   "metadata": {},
   "outputs": [
    {
     "data": {
      "text/plain": [
       "'tHERE IS A STORY IN THE rAMAYANA: lORD rAMA NEEDED THE HELP OF gARUDA, ONE OF HIS DEVOTEES, AT A TIME WHEN rAMA WAS UNDER THE SPELL OF A POISON ARROW. gARUDA SAVED HIM FROM THAT. aFTER HE DID THIS, A DOUBT CAME IN HIS MIND. “i THOUGHT rAMA WAS MY SAVIOR ALL THESE YEARS. i THOUGHT HE WAS GOING TO HELP ME, BUT TODAY IF i DID NOT SAVE HIM, HE WOULD HAVE DIED. tODAY HE NEEDED MY HELP AND i SAVED HIM. hOW CAN i DEPEND ON HIM? i SEEM TO BE MORE POWERFUL THAN HE IS. hE SEEMS TO BE ORDINARY, FOR WITHOUT ME HE WOULD HAVE DIED. bOTH HE AND HIS BROTHER WOULD HAVE DIED IN THE WAR.”\\n\\nwHEN THIS DOUBT CAME IN gARUDA, IT KEPT EATING AT HIM. wHEN DOUBT STARTS TO OVERTAKE THE MIND, THE CONSCIOUSNESS STARTS TO GO DOWN. dOUBT IS ONE THING THAT CAN EAT AND DESTROY YOU. wHEN DOUBT ENTERS THE SOUL, THEY SAY THAT THE PERSON WILL HAVE NEITHER SUCCESS IN THIS WORLD OR THE NEXT WORLD, THE INNER WORLD. sUCH WAS THE DOUBT OF gARUDA. hE WAS IN SUCH DISMAY BECAUSE ALL HIS TRUST HAD BEEN SHAKEN. wHAT COULD HE DO NOW? hE COULD NOT TELL rAMA THAT HE DOUBTED WHETHER HE COULD CONTINUE TO BE HIS DEVOTEE BECAUSE HE NOW PERCEIVED rAMA TO BE WEAKER THAN HIMSELF. hE COULD NOT DARE TO GO AND ASK HIM. sO HE QUIETLY WENT AND ASKED nARADA, ANOTHER TEACHER WHO WAS THE EXPONENT OF DIVINE LOVE, AND THE AUTHOR OF THE bHAKTI sUTRAS. '"
      ]
     },
     "execution_count": 7,
     "metadata": {},
     "output_type": "execute_result"
    }
   ],
   "source": [
    "story.swapcase()"
   ]
  },
  {
   "cell_type": "code",
   "execution_count": 8,
   "metadata": {},
   "outputs": [
    {
     "data": {
      "text/plain": [
       "'there is a story in the ramayana: lord rama needed the help of garuda, one of his devotees, at a time when rama was under the spell of a poison arrow. garuda saved him from that. after he did this, a doubt came in his mind. “i thought rama was my savior all these years. i thought he was going to help me, but today if i did not save him, he would have died. today he needed my help and i saved him. how can i depend on him? i seem to be more powerful than he is. he seems to be ordinary, for without me he would have died. both he and his brother would have died in the war.”\\n\\nwhen this doubt came in garuda, it kept eating at him. when doubt starts to overtake the mind, the consciousness starts to go down. doubt is one thing that can eat and destroy you. when doubt enters the soul, they say that the person will have neither success in this world or the next world, the inner world. such was the doubt of garuda. he was in such dismay because all his trust had been shaken. what could he do now? he could not tell rama that he doubted whether he could continue to be his devotee because he now perceived rama to be weaker than himself. he could not dare to go and ask him. so he quietly went and asked narada, another teacher who was the exponent of divine love, and the author of the bhakti sutras. '"
      ]
     },
     "execution_count": 8,
     "metadata": {},
     "output_type": "execute_result"
    }
   ],
   "source": [
    "story.casefold()"
   ]
  },
  {
   "cell_type": "markdown",
   "metadata": {},
   "source": [
    "#user inputs fuctions in strings are called validation fuctions\n",
    "msg = input('enter anything')\n",
    "msg.isalpha()"
   ]
  },
  {
   "cell_type": "code",
   "execution_count": 12,
   "metadata": {},
   "outputs": [
    {
     "name": "stdout",
     "output_type": "stream",
     "text": [
      "invalid number\n"
     ]
    }
   ],
   "source": [
    "msg = input('enter a number')\n",
    "if msg.isnumeric():\n",
    "    print('valid number')\n",
    "else:\n",
    "    print('invalid number')"
   ]
  },
  {
   "cell_type": "code",
   "execution_count": 16,
   "metadata": {},
   "outputs": [
    {
     "data": {
      "text/plain": [
       "False"
      ]
     },
     "execution_count": 16,
     "metadata": {},
     "output_type": "execute_result"
    }
   ],
   "source": [
    "# enter no aur string but without space\n",
    "msg = input('enter anything')\n",
    "msg.isalnum()"
   ]
  },
  {
   "cell_type": "code",
   "execution_count": 17,
   "metadata": {},
   "outputs": [
    {
     "data": {
      "text/plain": [
       "90"
      ]
     },
     "execution_count": 17,
     "metadata": {},
     "output_type": "execute_result"
    }
   ],
   "source": [
    "# counts the occurence of a particullar substring in a string(story)\n",
    "story.count('a')"
   ]
  },
  {
   "cell_type": "code",
   "execution_count": 18,
   "metadata": {},
   "outputs": [
    {
     "name": "stdout",
     "output_type": "stream",
     "text": [
      "a 90\n",
      "b 16\n",
      "c 19\n",
      "d 64\n",
      "e 132\n",
      "f 12\n",
      "g 8\n",
      "h 82\n",
      "i 52\n",
      "j 0\n",
      "k 7\n",
      "l 28\n",
      "m 27\n",
      "n 58\n",
      "o 80\n",
      "p 11\n",
      "q 1\n",
      "r 44\n",
      "s 56\n",
      "t 92\n",
      "u 37\n",
      "v 14\n",
      "w 26\n",
      "x 2\n",
      "y 14\n",
      "z 0\n"
     ]
    }
   ],
   "source": [
    "for char in \"abcdefghijklmnopqrstuvwxyz\":\n",
    "    print(char,story.count(char))"
   ]
  },
  {
   "cell_type": "code",
   "execution_count": 21,
   "metadata": {},
   "outputs": [
    {
     "name": "stdout",
     "output_type": "stream",
     "text": [
      "   abcdefghijk     18\n",
      "   abcdefghijk 14\n"
     ]
    }
   ],
   "source": [
    "name = input('enter your name')\n",
    "print(name,len(name))\n",
    "# cleaning name\n",
    "name = name.strip()   #rstrip #lstrip\n",
    "print(name,len(name))"
   ]
  },
  {
   "cell_type": "code",
   "execution_count": 23,
   "metadata": {},
   "outputs": [
    {
     "name": "stdout",
     "output_type": "stream",
     "text": [
      "welcome gentlemen,Mr.Smith\n",
      "Welcome milady,Mrs.Jones\n",
      "welcome gentlemen,Mr.William\n",
      "welcome gentlemen,Mr.Brown\n"
     ]
    }
   ],
   "source": [
    "guestlist = ['Mr.Smith','Mrs.Jones','Mr.William','Mr.Brown']\n",
    "for name in guestlist:\n",
    "    if name.startswith('Mr.'):\n",
    "        print(f'welcome gentlemen,{name}')\n",
    "    if name.startswith('Mrs.'):\n",
    "        print(f'Welcome milady,{name}')"
   ]
  },
  {
   "cell_type": "code",
   "execution_count": 26,
   "metadata": {},
   "outputs": [
    {
     "name": "stdout",
     "output_type": "stream",
     "text": [
      "songs.mp3 is audio file\n",
      "song.mp4 is vedio file\n",
      "doc.txt is text file\n",
      "doc2.txt is text file\n",
      "doc3.txt is text file\n",
      "video.mp4 is vedio file\n"
     ]
    }
   ],
   "source": [
    "files = ['songs.mp3','song.mp4','doc.txt','doc2.txt','doc3.txt','video.mp4']\n",
    "# display all file types\n",
    "for file in files:\n",
    "    if file.endswith('.mp3'):\n",
    "        print(f'{file} is audio file')\n",
    "    elif file.endswith('.mp4'):\n",
    "        print(f'{file} is vedio file')\n",
    "    elif file.endswith('.txt'):\n",
    "         print(f'{file} is text file')"
   ]
  },
  {
   "cell_type": "code",
   "execution_count": 27,
   "metadata": {},
   "outputs": [],
   "source": [
    "#### remove all vowels from a string entered by user"
   ]
  },
  {
   "cell_type": "code",
   "execution_count": 35,
   "metadata": {},
   "outputs": [
    {
     "name": "stdout",
     "output_type": "stream",
     "text": [
      "I m  progrmmer\n",
      "I m  progrmmr\n",
      "I m  progrmmr\n",
      "I m  prgrmmr\n",
      "I m  prgrmmr\n",
      "I m  prgrmmr\n",
      "I m  prgrmmr\n",
      " m  prgrmmr\n",
      " m  prgrmmr\n",
      " m  prgrmmr\n"
     ]
    }
   ],
   "source": [
    "vowels = 'aeiouAEIOU'\n",
    "message = 'I am a programmer'\n",
    "\n",
    "for vowel in vowels:\n",
    "    message = message.replace(vowel,'')\n",
    "    print(message)"
   ]
  },
  {
   "cell_type": "markdown",
   "metadata": {},
   "source": [
    "#🗡️ count all vowels from a string entered by user"
   ]
  },
  {
   "cell_type": "code",
   "execution_count": 44,
   "metadata": {},
   "outputs": [
    {
     "name": "stdout",
     "output_type": "stream",
     "text": [
      "3 a\n",
      "1 e\n",
      "0 i\n",
      "1 o\n",
      "0 u\n",
      "0 A\n",
      "0 E\n",
      "1 I\n",
      "0 O\n",
      "0 U\n"
     ]
    }
   ],
   "source": [
    "vowels = 'aeiouAEIOU'\n",
    "message = 'I am a programmer'\n",
    "\n",
    "for vowel in vowels:\n",
    "     print(message.count(vowel),vowel)\n",
    "     "
   ]
  },
  {
   "cell_type": "code",
   "execution_count": 43,
   "metadata": {},
   "outputs": [
    {
     "name": "stdout",
     "output_type": "stream",
     "text": [
      "a occurs 3 times\n",
      "e occurs 1 times\n",
      "i occurs 1 times\n",
      "o occurs 1 times\n",
      "u occurs 0 times\n"
     ]
    }
   ],
   "source": [
    "vowels = 'aeiou'\n",
    "message = 'I am a programmer'\n",
    "\n",
    "for vowel in vowels:\n",
    "    print(f'{vowel} occurs {message.lower().count(vowel)} times')"
   ]
  },
  {
   "cell_type": "code",
   "execution_count": null,
   "metadata": {},
   "outputs": [],
   "source": []
  }
 ],
 "metadata": {
  "interpreter": {
   "hash": "50b26f52a78e56bb50a957cf14aee04c6c923725037f0b0901654ff3139df2fa"
  },
  "kernelspec": {
   "display_name": "Python 3.10.4 64-bit",
   "language": "python",
   "name": "python3"
  },
  "language_info": {
   "codemirror_mode": {
    "name": "ipython",
    "version": 3
   },
   "file_extension": ".py",
   "mimetype": "text/x-python",
   "name": "python",
   "nbconvert_exporter": "python",
   "pygments_lexer": "ipython3",
   "version": "3.10.4"
  },
  "orig_nbformat": 4
 },
 "nbformat": 4,
 "nbformat_minor": 2
}

{
 "cells": [
  {
   "cell_type": "code",
   "execution_count": 1,
   "metadata": {},
   "outputs": [
    {
     "name": "stdout",
     "output_type": "stream",
     "text": [
      "hello\n",
      "hello\n",
      "hello\n",
      "hello, welcome to the world of python\n"
     ]
    }
   ],
   "source": [
    "# defining string in python\n",
    "# all of the following are equivalent\n",
    "my_string = 'hello'\n",
    "print(my_string)\n",
    "\n",
    "my_string = \"hello\"\n",
    "print(my_string)\n",
    "\n",
    "my_string = '''hello'''\n",
    "print(my_string)\n",
    "\n",
    "# triple quotes string can extend multiple linesd\n",
    "my_string = \"\"\"hello, welcome to the world of python\"\"\"\n",
    "print(my_string)\n"
   ]
  },
  {
   "cell_type": "code",
   "execution_count": 6,
   "metadata": {},
   "outputs": [
    {
     "name": "stdout",
     "output_type": "stream",
     "text": [
      "str =  digipodium\n",
      "str d\n"
     ]
    }
   ],
   "source": [
    "# Accessing string characters in python \n",
    "str = 'digipodium'\n",
    "print('str = ',str)\n",
    " \n",
    "# first character\n",
    "print('str',str[0])\n",
    "\n",
    "# second ch"
   ]
  },
  {
   "cell_type": "code",
   "execution_count": 4,
   "metadata": {},
   "outputs": [
    {
     "name": "stdout",
     "output_type": "stream",
     "text": [
      "m\n"
     ]
    }
   ],
   "source": [
    "word = 'stormlight archive'\n",
    "len(word)\n",
    "print(word[4])\n"
   ]
  },
  {
   "cell_type": "code",
   "execution_count": 9,
   "metadata": {},
   "outputs": [
    {
     "name": "stdout",
     "output_type": "stream",
     "text": [
      "pod\n",
      "podium\n"
     ]
    }
   ],
   "source": [
    "# getting a slice \n",
    "s = 'digipodium'\n",
    "slice1 = s[4:7]\n",
    "slice2 = s[4:10]\n",
    "print(slice1)\n",
    "print(slice2)"
   ]
  },
  {
   "cell_type": "code",
   "execution_count": 14,
   "metadata": {},
   "outputs": [
    {
     "data": {
      "text/plain": [
       "'SODIUM'"
      ]
     },
     "execution_count": 14,
     "metadata": {},
     "output_type": "execute_result"
    }
   ],
   "source": [
    "x = 'SODIUM CARBONATE'\n",
    "x[:6]"
   ]
  },
  {
   "cell_type": "code",
   "execution_count": 16,
   "metadata": {},
   "outputs": [
    {
     "data": {
      "text/plain": [
       "'CARBONATE'"
      ]
     },
     "execution_count": 16,
     "metadata": {},
     "output_type": "execute_result"
    }
   ],
   "source": [
    "x[7:]"
   ]
  },
  {
   "cell_type": "code",
   "execution_count": 18,
   "metadata": {},
   "outputs": [
    {
     "name": "stdout",
     "output_type": "stream",
     "text": [
      "A\n"
     ]
    }
   ],
   "source": [
    "x = chr(65)\n",
    "print(x)"
   ]
  },
  {
   "cell_type": "code",
   "execution_count": 20,
   "metadata": {},
   "outputs": [
    {
     "name": "stdout",
     "output_type": "stream",
     "text": [
      "ऽ\n"
     ]
    }
   ],
   "source": [
    "x = chr(2365)\n",
    "print(x)"
   ]
  },
  {
   "cell_type": "code",
   "execution_count": 1,
   "metadata": {},
   "outputs": [
    {
     "name": "stdout",
     "output_type": "stream",
     "text": [
      "き\n"
     ]
    }
   ],
   "source": [
    "x = chr(12365)\n",
    "print(x)"
   ]
  },
  {
   "cell_type": "code",
   "execution_count": 1,
   "metadata": {},
   "outputs": [
    {
     "name": "stdout",
     "output_type": "stream",
     "text": [
      "65\n"
     ]
    }
   ],
   "source": [
    "x = ord('A')\n",
    "print(x)"
   ]
  },
  {
   "cell_type": "code",
   "execution_count": 3,
   "metadata": {},
   "outputs": [
    {
     "data": {
      "text/plain": [
       "'yoyoyoyoyo'"
      ]
     },
     "execution_count": 3,
     "metadata": {},
     "output_type": "execute_result"
    }
   ],
   "source": [
    "#string concatenation\n",
    "#string duplication (cloning)\n",
    "'yo' * 5"
   ]
  },
  {
   "cell_type": "code",
   "execution_count": 5,
   "metadata": {},
   "outputs": [
    {
     "name": "stdout",
     "output_type": "stream",
     "text": [
      "___________\n",
      "heelo\n",
      "___________\n"
     ]
    }
   ],
   "source": [
    "print('_'*11)\n",
    "print('hello')\n",
    "print('_'*11)"
   ]
  },
  {
   "cell_type": "code",
   "execution_count": 6,
   "metadata": {},
   "outputs": [
    {
     "data": {
      "text/plain": [
       "['w', 'o', 'r', 'l', 'd', 's', 'i', 'n', 'g', 'e', 'r', 's']"
      ]
     },
     "execution_count": 6,
     "metadata": {},
     "output_type": "execute_result"
    }
   ],
   "source": [
    "w = \"worldsingers\"\n",
    "list(w)"
   ]
  },
  {
   "cell_type": "code",
   "execution_count": 7,
   "metadata": {},
   "outputs": [
    {
     "data": {
      "text/plain": [
       "'world'"
      ]
     },
     "execution_count": 7,
     "metadata": {},
     "output_type": "execute_result"
    }
   ],
   "source": [
    "#slicing\n",
    "w[:5]"
   ]
  },
  {
   "cell_type": "code",
   "execution_count": 8,
   "metadata": {},
   "outputs": [
    {
     "data": {
      "text/plain": [
       "'olsnes'"
      ]
     },
     "execution_count": 8,
     "metadata": {},
     "output_type": "execute_result"
    }
   ],
   "source": [
    "w[1::2]   #[string:end:jump]  #odd indexes"
   ]
  },
  {
   "cell_type": "code",
   "execution_count": 9,
   "metadata": {},
   "outputs": [
    {
     "data": {
      "text/plain": [
       "'wrdigr'"
      ]
     },
     "execution_count": 9,
     "metadata": {},
     "output_type": "execute_result"
    }
   ],
   "source": [
    "w[::2] # even indexes"
   ]
  },
  {
   "cell_type": "code",
   "execution_count": 10,
   "metadata": {},
   "outputs": [
    {
     "data": {
      "text/plain": [
       "'sregnisdlrow'"
      ]
     },
     "execution_count": 10,
     "metadata": {},
     "output_type": "execute_result"
    }
   ],
   "source": [
    "w[::-1] # reverse string"
   ]
  },
  {
   "cell_type": "code",
   "execution_count": 12,
   "metadata": {},
   "outputs": [
    {
     "data": {
      "text/plain": [
       "'                                                                    worldsingers'"
      ]
     },
     "execution_count": 12,
     "metadata": {},
     "output_type": "execute_result"
    }
   ],
   "source": [
    "w.rjust(80\n",
    ")"
   ]
  },
  {
   "cell_type": "code",
   "execution_count": 20,
   "metadata": {},
   "outputs": [
    {
     "name": "stdout",
     "output_type": "stream",
     "text": [
      "         O\n",
      "        OO\n",
      "       OOO\n",
      "      OOOO\n",
      "     OOOOO\n"
     ]
    }
   ],
   "source": [
    "for i in range(1,6):\n",
    "    print(('O' * i).rjust(10))"
   ]
  },
  {
   "cell_type": "code",
   "execution_count": 19,
   "metadata": {},
   "outputs": [
    {
     "name": "stdout",
     "output_type": "stream",
     "text": [
      "              T               \n",
      "            T T T             \n",
      "          T T T T T           \n",
      "        T T T T T T T         \n",
      "      T T T T T T T T T       \n",
      "    T T T T T T T T T T T     \n"
     ]
    }
   ],
   "source": [
    "for i in range(1,13,2):\n",
    "    print((i * 'T ').center(30))   # center alignment"
   ]
  },
  {
   "cell_type": "code",
   "execution_count": 29,
   "metadata": {},
   "outputs": [
    {
     "name": "stdout",
     "output_type": "stream",
     "text": [
      "       0       \n",
      "       **      \n",
      "      000      \n",
      "      ****     \n",
      "     00000     \n",
      "     ******    \n",
      "    0000000    \n",
      "    ********   \n",
      "   000000000   \n",
      "   **********  \n",
      "  00000000000  \n",
      "  ************ \n"
     ]
    }
   ],
   "source": [
    "##  my logic but this is wrong\n",
    "for i in range(1,13,1):      \n",
    "    if i % 2 == 0:\n",
    "        print((i * '*').center(15))\n",
    "    else:\n",
    "        print((i * '0').center(15)) \n"
   ]
  },
  {
   "cell_type": "code",
   "execution_count": 33,
   "metadata": {},
   "outputs": [
    {
     "name": "stdout",
     "output_type": "stream",
     "text": [
      "                   O                    \n",
      "                *  *  *                 \n",
      "             O  O  O  O  O              \n",
      "          *  *  *  *  *  *  *           \n",
      "       O  O  O  O  O  O  O  O  O        \n",
      "    *  *  *  *  *  *  *  *  *  *  *     \n",
      " O  O  O  O  O  O  O  O  O  O  O  O  O  \n"
     ]
    }
   ],
   "source": [
    "for i,v in enumerate(range(1,15,2)):\n",
    "    if i % 2 == 0:\n",
    "        print((v * ' O ').center(40))\n",
    "    else:\n",
    "        print((v * ' * ').center(40))"
   ]
  },
  {
   "cell_type": "code",
   "execution_count": 34,
   "metadata": {},
   "outputs": [
    {
     "name": "stdout",
     "output_type": "stream",
     "text": [
      "\u001b[1;31mSignature:\u001b[0m \u001b[0mw\u001b[0m\u001b[1;33m.\u001b[0m\u001b[0mcenter\u001b[0m\u001b[1;33m(\u001b[0m\u001b[0mwidth\u001b[0m\u001b[1;33m,\u001b[0m \u001b[0mfillchar\u001b[0m\u001b[1;33m=\u001b[0m\u001b[1;34m' '\u001b[0m\u001b[1;33m,\u001b[0m \u001b[1;33m/\u001b[0m\u001b[1;33m)\u001b[0m\u001b[1;33m\u001b[0m\u001b[1;33m\u001b[0m\u001b[0m\n",
      "\u001b[1;31mDocstring:\u001b[0m\n",
      "Return a centered string of length width.\n",
      "\n",
      "Padding is done using the specified fill character (default is a space).\n",
      "\u001b[1;31mType:\u001b[0m      builtin_function_or_method\n"
     ]
    }
   ],
   "source": [
    "w.center?"
   ]
  },
  {
   "cell_type": "code",
   "execution_count": 35,
   "metadata": {},
   "outputs": [
    {
     "name": "stdout",
     "output_type": "stream",
     "text": [
      "XXXXXXXXXXXXXXXXXXX O XXXXXXXXXXXXXXXXXXX\n",
      "XXXXXXXXXXXXXXXX *  *  * XXXXXXXXXXXXXXXX\n",
      "XXXXXXXXXXXXX O  O  O  O  O XXXXXXXXXXXXX\n",
      "XXXXXXXXXX *  *  *  *  *  *  * XXXXXXXXXX\n",
      "XXXXXXX O  O  O  O  O  O  O  O  O XXXXXXX\n",
      "XXXX *  *  *  *  *  *  *  *  *  *  * XXXX\n",
      "X O  O  O  O  O  O  O  O  O  O  O  O  O X\n"
     ]
    }
   ],
   "source": [
    "### fillchar is used to fill all the spaces ###\n",
    "for i,v in enumerate(range(1,15,2)):\n",
    "    if i % 2 == 0:\n",
    "        print((v * ' O ').center(41,'X'))\n",
    "    else:\n",
    "        print((v * ' * ').center(41,'X'))"
   ]
  },
  {
   "cell_type": "code",
   "execution_count": 39,
   "metadata": {},
   "outputs": [
    {
     "data": {
      "text/plain": [
       "1305"
      ]
     },
     "execution_count": 39,
     "metadata": {},
     "output_type": "execute_result"
    }
   ],
   "source": [
    "#string functions\n",
    "story = '''There is a story in the Ramayana: Lord Rama needed the help of Garuda, one of his devotees, at a time when Rama was under the spell of a poison arrow. Garuda saved him from that. After he did this, a doubt came in his mind. “I thought Rama was my savior all these years. I thought he was going to help me, but today if I did not save him, he would have died. Today he needed my help and I saved him. How can I depend on him? I seem to be more powerful than he is. He seems to be ordinary, for without me he would have died. Both he and his brother would have died in the war.”\n",
    "\n",
    "When this doubt came in Garuda, it kept eating at him. When doubt starts to overtake the mind, the consciousness starts to go down. Doubt is one thing that can eat and destroy you. When doubt enters the soul, they say that the person will have neither success in this world or the next world, the inner world. Such was the doubt of Garuda. He was in such dismay because all his trust had been shaken. What could he do now? He could not tell Rama that he doubted whether he could continue to be his devotee because he now perceived Rama to be weaker than himself. He could not dare to go and ask him. So he quietly went and asked Narada, another teacher who was the exponent of divine love, and the author of the Bhakti Sutras. '''\n",
    "len(story)"
   ]
  },
  {
   "cell_type": "code",
   "execution_count": 40,
   "metadata": {},
   "outputs": [
    {
     "name": "stdout",
     "output_type": "stream",
     "text": [
      "['There', 'is', 'a', 'story', 'in', 'the', 'Ramayana:', 'Lord', 'Rama', 'needed', 'the', 'help', 'of', 'Garuda,', 'one', 'of', 'his', 'devotees,', 'at', 'a', 'time', 'when', 'Rama', 'was', 'under', 'the', 'spell', 'of', 'a', 'poison', 'arrow.', 'Garuda', 'saved', 'him', 'from', 'that.', 'After', 'he', 'did', 'this,', 'a', 'doubt', 'came', 'in', 'his', 'mind.', '“I', 'thought', 'Rama', 'was', 'my', 'savior', 'all', 'these', 'years.', 'I', 'thought', 'he', 'was', 'going', 'to', 'help', 'me,', 'but', 'today', 'if', 'I', 'did', 'not', 'save', 'him,', 'he', 'would', 'have', 'died.', 'Today', 'he', 'needed', 'my', 'help', 'and', 'I', 'saved', 'him.', 'How', 'can', 'I', 'depend', 'on', 'him?', 'I', 'seem', 'to', 'be', 'more', 'powerful', 'than', 'he', 'is.', 'He', 'seems', 'to', 'be', 'ordinary,', 'for', 'without', 'me', 'he', 'would', 'have', 'died.', 'Both', 'he', 'and', 'his', 'brother', 'would', 'have', 'died', 'in', 'the', 'war.”', 'When', 'this', 'doubt', 'came', 'in', 'Garuda,', 'it', 'kept', 'eating', 'at', 'him.', 'When', 'doubt', 'starts', 'to', 'overtake', 'the', 'mind,', 'the', 'consciousness', 'starts', 'to', 'go', 'down.', 'Doubt', 'is', 'one', 'thing', 'that', 'can', 'eat', 'and', 'destroy', 'you.', 'When', 'doubt', 'enters', 'the', 'soul,', 'they', 'say', 'that', 'the', 'person', 'will', 'have', 'neither', 'success', 'in', 'this', 'world', 'or', 'the', 'next', 'world,', 'the', 'inner', 'world.', 'Such', 'was', 'the', 'doubt', 'of', 'Garuda.', 'He', 'was', 'in', 'such', 'dismay', 'because', 'all', 'his', 'trust', 'had', 'been', 'shaken.', 'What', 'could', 'he', 'do', 'now?', 'He', 'could', 'not', 'tell', 'Rama', 'that', 'he', 'doubted', 'whether', 'he', 'could', 'continue', 'to', 'be', 'his', 'devotee', 'because', 'he', 'now', 'perceived', 'Rama', 'to', 'be', 'weaker', 'than', 'himself.', 'He', 'could', 'not', 'dare', 'to', 'go', 'and', 'ask', 'him.', 'So', 'he', 'quietly', 'went', 'and', 'asked', 'Narada,', 'another', 'teacher', 'who', 'was', 'the', 'exponent', 'of', 'divine', 'love,', 'and', 'the', 'author', 'of', 'the', 'Bhakti', 'Sutras.']\n"
     ]
    }
   ],
   "source": [
    "print(story.split())"
   ]
  },
  {
   "cell_type": "code",
   "execution_count": 41,
   "metadata": {},
   "outputs": [
    {
     "name": "stdout",
     "output_type": "stream",
     "text": [
      "261\n"
     ]
    }
   ],
   "source": [
    "words = story.split()\n",
    "print(len(words))"
   ]
  },
  {
   "cell_type": "code",
   "execution_count": 42,
   "metadata": {},
   "outputs": [
    {
     "data": {
      "text/plain": [
       "['There is a story in the Ramayana: Lord Rama needed the help of Garuda, one of his devotees, at a time when Rama was under the spell of a poison arrow',\n",
       " ' Garuda saved him from that',\n",
       " ' After he did this, a doubt came in his mind',\n",
       " ' “I thought Rama was my savior all these years',\n",
       " ' I thought he was going to help me, but today if I did not save him, he would have died',\n",
       " ' Today he needed my help and I saved him',\n",
       " ' How can I depend on him? I seem to be more powerful than he is',\n",
       " ' He seems to be ordinary, for without me he would have died',\n",
       " ' Both he and his brother would have died in the war',\n",
       " '”\\n\\nWhen this doubt came in Garuda, it kept eating at him',\n",
       " ' When doubt starts to overtake the mind, the consciousness starts to go down',\n",
       " ' Doubt is one thing that can eat and destroy you',\n",
       " ' When doubt enters the soul, they say that the person will have neither success in this world or the next world, the inner world',\n",
       " ' Such was the doubt of Garuda',\n",
       " ' He was in such dismay because all his trust had been shaken',\n",
       " ' What could he do now? He could not tell Rama that he doubted whether he could continue to be his devotee because he now perceived Rama to be weaker than himself',\n",
       " ' He could not dare to go and ask him',\n",
       " ' So he quietly went and asked Narada, another teacher who was the exponent of divine love, and the author of the Bhakti Sutras',\n",
       " ' ']"
      ]
     },
     "execution_count": 42,
     "metadata": {},
     "output_type": "execute_result"
    }
   ],
   "source": [
    "story.split('.')"
   ]
  },
  {
   "cell_type": "code",
   "execution_count": 43,
   "metadata": {},
   "outputs": [
    {
     "data": {
      "text/plain": [
       "['There is a story in the Ramayana: Lord Rama needed the help ',\n",
       " ' Garuda, one ',\n",
       " ' his devotees, at a time when Rama was under the spell ',\n",
       " ' a poison arrow. Garuda saved him from that. After he did this, a doubt came in his mind. “I thought Rama was my savior all these years. I thought he was going to help me, but today if I did not save him, he would have died. Today he needed my help and I saved him. How can I depend on him? I seem to be more powerful than he is. He seems to be ordinary, for without me he would have died. Both he and his brother would have died in the war.”\\n\\nWhen this doubt came in Garuda, it kept eating at him. When doubt starts to overtake the mind, the consciousness starts to go down. Doubt is one thing that can eat and destroy you. When doubt enters the soul, they say that the person will have neither success in this world or the next world, the inner world. Such was the doubt ',\n",
       " ' Garuda. He was in such dismay because all his trust had been shaken. What could he do now? He could not tell Rama that he doubted whether he could continue to be his devotee because he now perceived Rama to be weaker than himself. He could not dare to go and ask him. So he quietly went and asked Narada, another teacher who was the exponent ',\n",
       " ' divine love, and the author ',\n",
       " ' the Bhakti Sutras. ']"
      ]
     },
     "execution_count": 43,
     "metadata": {},
     "output_type": "execute_result"
    }
   ],
   "source": [
    "story.split('of')"
   ]
  },
  {
   "cell_type": "code",
   "execution_count": 44,
   "metadata": {},
   "outputs": [
    {
     "data": {
      "text/plain": [
       "['There',\n",
       " 'is',\n",
       " 'a',\n",
       " 'story',\n",
       " 'in',\n",
       " 'the',\n",
       " 'Ramayana:',\n",
       " 'Lord',\n",
       " 'Rama',\n",
       " 'needed',\n",
       " 'the',\n",
       " 'help',\n",
       " 'of',\n",
       " 'Garuda,',\n",
       " 'one',\n",
       " 'of',\n",
       " 'his',\n",
       " 'devotees,',\n",
       " 'at',\n",
       " 'a',\n",
       " 'time',\n",
       " 'when',\n",
       " 'Rama',\n",
       " 'was',\n",
       " 'under',\n",
       " 'the',\n",
       " 'spell',\n",
       " 'of',\n",
       " 'a',\n",
       " 'poison',\n",
       " 'arrow.',\n",
       " 'Garuda',\n",
       " 'saved',\n",
       " 'him',\n",
       " 'from',\n",
       " 'that.',\n",
       " 'After',\n",
       " 'he',\n",
       " 'did',\n",
       " 'this,',\n",
       " 'a',\n",
       " 'doubt',\n",
       " 'came',\n",
       " 'in',\n",
       " 'his',\n",
       " 'mind.',\n",
       " '“I',\n",
       " 'thought',\n",
       " 'Rama',\n",
       " 'was',\n",
       " 'my',\n",
       " 'savior',\n",
       " 'all',\n",
       " 'these',\n",
       " 'years.',\n",
       " 'I',\n",
       " 'thought',\n",
       " 'he',\n",
       " 'was',\n",
       " 'going',\n",
       " 'to',\n",
       " 'help',\n",
       " 'me,',\n",
       " 'but',\n",
       " 'today',\n",
       " 'if',\n",
       " 'I',\n",
       " 'did',\n",
       " 'not',\n",
       " 'save',\n",
       " 'him,',\n",
       " 'he',\n",
       " 'would',\n",
       " 'have',\n",
       " 'died.',\n",
       " 'Today',\n",
       " 'he',\n",
       " 'needed',\n",
       " 'my',\n",
       " 'help',\n",
       " 'and',\n",
       " 'I',\n",
       " 'saved',\n",
       " 'him.',\n",
       " 'How',\n",
       " 'can',\n",
       " 'I',\n",
       " 'depend',\n",
       " 'on',\n",
       " 'him?',\n",
       " 'I',\n",
       " 'seem',\n",
       " 'to',\n",
       " 'be',\n",
       " 'more',\n",
       " 'powerful',\n",
       " 'than',\n",
       " 'he',\n",
       " 'is.',\n",
       " 'He',\n",
       " 'seems',\n",
       " 'to',\n",
       " 'be',\n",
       " 'ordinary,',\n",
       " 'for',\n",
       " 'without',\n",
       " 'me',\n",
       " 'he',\n",
       " 'would',\n",
       " 'have',\n",
       " 'died.',\n",
       " 'Both',\n",
       " 'he',\n",
       " 'and',\n",
       " 'his',\n",
       " 'brother',\n",
       " 'would',\n",
       " 'have',\n",
       " 'died',\n",
       " 'in',\n",
       " 'the',\n",
       " 'war.”',\n",
       " 'When',\n",
       " 'this',\n",
       " 'doubt',\n",
       " 'came',\n",
       " 'in',\n",
       " 'Garuda,',\n",
       " 'it',\n",
       " 'kept',\n",
       " 'eating',\n",
       " 'at',\n",
       " 'him.',\n",
       " 'When',\n",
       " 'doubt',\n",
       " 'starts',\n",
       " 'to',\n",
       " 'overtake',\n",
       " 'the',\n",
       " 'mind,',\n",
       " 'the',\n",
       " 'consciousness',\n",
       " 'starts',\n",
       " 'to',\n",
       " 'go',\n",
       " 'down.',\n",
       " 'Doubt',\n",
       " 'is',\n",
       " 'one',\n",
       " 'thing',\n",
       " 'that',\n",
       " 'can',\n",
       " 'eat',\n",
       " 'and',\n",
       " 'destroy',\n",
       " 'you.',\n",
       " 'When',\n",
       " 'doubt',\n",
       " 'enters',\n",
       " 'the',\n",
       " 'soul,',\n",
       " 'they',\n",
       " 'say',\n",
       " 'that',\n",
       " 'the',\n",
       " 'person',\n",
       " 'will',\n",
       " 'have',\n",
       " 'neither',\n",
       " 'success',\n",
       " 'in',\n",
       " 'this',\n",
       " 'world',\n",
       " 'or',\n",
       " 'the',\n",
       " 'next',\n",
       " 'world,',\n",
       " 'the',\n",
       " 'inner',\n",
       " 'world.',\n",
       " 'Such',\n",
       " 'was',\n",
       " 'the',\n",
       " 'doubt',\n",
       " 'of',\n",
       " 'Garuda.',\n",
       " 'He',\n",
       " 'was',\n",
       " 'in',\n",
       " 'such',\n",
       " 'dismay',\n",
       " 'because',\n",
       " 'all',\n",
       " 'his',\n",
       " 'trust',\n",
       " 'had',\n",
       " 'been',\n",
       " 'shaken.',\n",
       " 'What',\n",
       " 'could',\n",
       " 'he',\n",
       " 'do',\n",
       " 'now?',\n",
       " 'He',\n",
       " 'could',\n",
       " 'not',\n",
       " 'tell',\n",
       " 'Rama',\n",
       " 'that',\n",
       " 'he',\n",
       " 'doubted',\n",
       " 'whether',\n",
       " 'he',\n",
       " 'could',\n",
       " 'continue',\n",
       " 'to',\n",
       " 'be',\n",
       " 'his',\n",
       " 'devotee',\n",
       " 'because',\n",
       " 'he',\n",
       " 'now',\n",
       " 'perceived',\n",
       " 'Rama',\n",
       " 'to',\n",
       " 'be',\n",
       " 'weaker',\n",
       " 'than',\n",
       " 'himself.',\n",
       " 'He',\n",
       " 'could',\n",
       " 'not',\n",
       " 'dare',\n",
       " 'to',\n",
       " 'go',\n",
       " 'and',\n",
       " 'ask',\n",
       " 'him.',\n",
       " 'So',\n",
       " 'he',\n",
       " 'quietly',\n",
       " 'went',\n",
       " 'and',\n",
       " 'asked',\n",
       " 'Narada,',\n",
       " 'another',\n",
       " 'teacher',\n",
       " 'who',\n",
       " 'was',\n",
       " 'the',\n",
       " 'exponent',\n",
       " 'of',\n",
       " 'divine',\n",
       " 'love,',\n",
       " 'and',\n",
       " 'the',\n",
       " 'author',\n",
       " 'of',\n",
       " 'the',\n",
       " 'Bhakti',\n",
       " 'Sutras.']"
      ]
     },
     "execution_count": 44,
     "metadata": {},
     "output_type": "execute_result"
    }
   ],
   "source": [
    "story.split()"
   ]
  },
  {
   "cell_type": "code",
   "execution_count": 49,
   "metadata": {},
   "outputs": [
    {
     "data": {
      "text/plain": [
       "['There is a story in the Ramayana: Lord Rama needed the help of Garuda, one of his devotees, at a time when Rama was under the spell of a poison arrow',\n",
       " ' Garuda saved him from that',\n",
       " ' After he did this, a doubt came in his mind',\n",
       " ' “I thought Rama was my savior all these years',\n",
       " ' I thought he was going to help me, but today if I did not save him, he would have died',\n",
       " ' Today he needed my help and I saved him',\n",
       " ' How can I depend on him? I seem to be more powerful than he is',\n",
       " ' He seems to be ordinary, for without me he would have died',\n",
       " ' Both he and his brother would have died in the war',\n",
       " '”\\n\\nWhen this doubt came in Garuda, it kept eating at him',\n",
       " ' When doubt starts to overtake the mind, the consciousness starts to go down',\n",
       " ' Doubt is one thing that can eat and destroy you',\n",
       " ' When doubt enters the soul, they say that the person will have neither success in this world or the next world, the inner world. Such was the doubt of Garuda. He was in such dismay because all his trust had been shaken. What could he do now? He could not tell Rama that he doubted whether he could continue to be his devotee because he now perceived Rama to be weaker than himself. He could not dare to go and ask him. So he quietly went and asked Narada, another teacher who was the exponent of divine love, and the author of the Bhakti Sutras. ']"
      ]
     },
     "execution_count": 49,
     "metadata": {},
     "output_type": "execute_result"
    }
   ],
   "source": [
    "story.split('.',12)"
   ]
  },
  {
   "cell_type": "code",
   "execution_count": 50,
   "metadata": {},
   "outputs": [
    {
     "name": "stdout",
     "output_type": "stream",
     "text": [
      "\u001b[1;31mSignature:\u001b[0m \u001b[0mstory\u001b[0m\u001b[1;33m.\u001b[0m\u001b[0msplit\u001b[0m\u001b[1;33m(\u001b[0m\u001b[0msep\u001b[0m\u001b[1;33m=\u001b[0m\u001b[1;32mNone\u001b[0m\u001b[1;33m,\u001b[0m \u001b[0mmaxsplit\u001b[0m\u001b[1;33m=\u001b[0m\u001b[1;33m-\u001b[0m\u001b[1;36m1\u001b[0m\u001b[1;33m)\u001b[0m\u001b[1;33m\u001b[0m\u001b[1;33m\u001b[0m\u001b[0m\n",
      "\u001b[1;31mDocstring:\u001b[0m\n",
      "Return a list of the words in the string, using sep as the delimiter string.\n",
      "\n",
      "sep\n",
      "  The delimiter according which to split the string.\n",
      "  None (the default value) means split according to any whitespace,\n",
      "  and discard empty strings from the result.\n",
      "maxsplit\n",
      "  Maximum number of splits to do.\n",
      "  -1 (the default value) means no limit.\n",
      "\u001b[1;31mType:\u001b[0m      builtin_function_or_method\n"
     ]
    }
   ],
   "source": [
    "story.split?"
   ]
  },
  {
   "cell_type": "code",
   "execution_count": 51,
   "metadata": {},
   "outputs": [],
   "source": [
    "wordlist = ['chocolate','is','good','for','health']"
   ]
  },
  {
   "cell_type": "code",
   "execution_count": 52,
   "metadata": {},
   "outputs": [
    {
     "data": {
      "text/plain": [
       "'chocolate is good for health'"
      ]
     },
     "execution_count": 52,
     "metadata": {},
     "output_type": "execute_result"
    }
   ],
   "source": [
    "' '.join(wordlist)"
   ]
  },
  {
   "cell_type": "code",
   "execution_count": 54,
   "metadata": {},
   "outputs": [
    {
     "data": {
      "text/plain": [
       "'There is a story in the Ramayana: Lord Rama needed the help of Garuda, one of his devotees, at a time when Rama was under the spell of a poison arrow. Garuda saved him from that. After he did this, a doubt came in his mind. “I thought Rama was my savior all these years. I thought he was going to help me, but today if I did not save him, he would have died. Today he needed my help and I saved him. How can I depend on him? I seem to be more powerful than he is. He seems to be ordinary, for without me he would have died. Both he and his brother would have died in the war.”\\n\\nWhen this doubt came in Garuda, it kept eating at him. When doubt starts to overtake the mind, the consciousness starts to go down. Doubt is one thing that can eat and destroy you. When doubt enters the soul, they say that the person will have neither success in this world or the next world, the inner world. Such was the doubt of Garuda. He was in such dismay because all his trust had been shaken. What could he do now? He could not tell Rama that he doubted whether he could continue to be his devotee because he now perceived Rama to be weaker than himself. He could not dare to go and ask him. So he quietly went and asked Narada, another teacher who was the exponent of divine love, and the author of the Bhakti Sutras. '"
      ]
     },
     "execution_count": 54,
     "metadata": {},
     "output_type": "execute_result"
    }
   ],
   "source": [
    "story"
   ]
  },
  {
   "cell_type": "code",
   "execution_count": 57,
   "metadata": {},
   "outputs": [
    {
     "data": {
      "text/plain": [
       "'There is a story in the Ramayana: Lord Rama needed the help of Garuda, one of his devotees, at a time when Rama was under the spell of a poison arrow? Garuda saved him from that? After he did this, a doubt came in his mind? “I thought Rama was my savior all these years? I thought he was going to help me, but today if I did not save him, he would have died? Today he needed my help and I saved him? How can I depend on him? I seem to be more powerful than he is? He seems to be ordinary, for without me he would have died? Both he and his brother would have died in the war?”\\n\\nWhen this doubt came in Garuda, it kept eating at him? When doubt starts to overtake the mind, the consciousness starts to go down? Doubt is one thing that can eat and destroy you? When doubt enters the soul, they say that the person will have neither success in this world or the next world, the inner world? Such was the doubt of Garuda? He was in such dismay because all his trust had been shaken? What could he do now? He could not tell Rama that he doubted whether he could continue to be his devotee because he now perceived Rama to be weaker than himself? He could not dare to go and ask him? So he quietly went and asked Narada, another teacher who was the exponent of divine love, and the author of the Bhakti Sutras? '"
      ]
     },
     "execution_count": 57,
     "metadata": {},
     "output_type": "execute_result"
    }
   ],
   "source": [
    "story.replace('a','o')\n",
    "story.replace('.','?')\n"
   ]
  },
  {
   "cell_type": "code",
   "execution_count": 59,
   "metadata": {},
   "outputs": [
    {
     "data": {
      "text/plain": [
       "'There is a story in the Ramayana: Lord Rama needed the help of Garuda, one of his devotees, at a time when Rama was under the spell of a poison arrow?? Garuda saved him from that?? After he did this, a doubt came in his mind?? “I thought Rama was my savior all these years. I thought he was going to help me, but today if I did not save him, he would have died. Today he needed my help and I saved him. How can I depend on him? I seem to be more powerful than he is. He seems to be ordinary, for without me he would have died. Both he and his brother would have died in the war.”\\n\\nWhen this doubt came in Garuda, it kept eating at him. When doubt starts to overtake the mind, the consciousness starts to go down. Doubt is one thing that can eat and destroy you. When doubt enters the soul, they say that the person will have neither success in this world or the next world, the inner world. Such was the doubt of Garuda. He was in such dismay because all his trust had been shaken. What could he do now? He could not tell Rama that he doubted whether he could continue to be his devotee because he now perceived Rama to be weaker than himself. He could not dare to go and ask him. So he quietly went and asked Narada, another teacher who was the exponent of divine love, and the author of the Bhakti Sutras. '"
      ]
     },
     "execution_count": 59,
     "metadata": {},
     "output_type": "execute_result"
    }
   ],
   "source": [
    "story.replace('.','??',3)   # replaces only first three .  #"
   ]
  },
  {
   "cell_type": "code",
   "execution_count": 60,
   "metadata": {},
   "outputs": [
    {
     "data": {
      "text/plain": [
       "'There is a story in the Ramayana: Lord Rama needed the help of Garuda, one of his devotees, at a time when Rama was under the spell of a poison arrow. Garuda saved him from that. After he did this, a doubt came in his mind. “I thought Rama was my savior all these years. I thought he was going to help me, but today if I did not save him, he would have died. Today he needed my help and I saved him. How can I depend on him? I seem to be more powerful than he is. He seems to be ordinary, for without me he would have died. Both he and his brother would have died in the war.”\\n\\nWhen this doubt came in Garuda, it kept eating at him. When doubt starts to overtake the mind, the consciousness starts to go down. Doubt is one thing that can eat and destroy you. When doubt enters the soul, they say that the person will have neither success in this world or the next world, the inner world. Such was the doubt of Garuda. He was in such dismay because all his trust had been shaken. What could he do now? He could not tell Rama that he doubted whether he could continue to be his devotee because he now perceived Rama to be weaker than himself. He could not dare to go and ask him. So he quietly went and asked Narada, another teacher who was the exponent of divine love, and the author of the Bhakti Sutras. '"
      ]
     },
     "execution_count": 60,
     "metadata": {},
     "output_type": "execute_result"
    }
   ],
   "source": [
    "story"
   ]
  },
  {
   "cell_type": "code",
   "execution_count": null,
   "metadata": {},
   "outputs": [],
   "source": []
  }
 ],
 "metadata": {
  "interpreter": {
   "hash": "50b26f52a78e56bb50a957cf14aee04c6c923725037f0b0901654ff3139df2fa"
  },
  "kernelspec": {
   "display_name": "Python 3.10.4 64-bit",
   "language": "python",
   "name": "python3"
  },
  "language_info": {
   "codemirror_mode": {
    "name": "ipython",
    "version": 3
   },
   "file_extension": ".py",
   "mimetype": "text/x-python",
   "name": "python",
   "nbconvert_exporter": "python",
   "pygments_lexer": "ipython3",
   "version": "3.10.4"
  },
  "orig_nbformat": 4
 },
 "nbformat": 4,
 "nbformat_minor": 2
}

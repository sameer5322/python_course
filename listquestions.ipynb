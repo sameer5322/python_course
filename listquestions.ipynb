{
 "cells": [
  {
   "cell_type": "markdown",
   "metadata": {},
   "source": [
    "Question 1 - create a list of size n, with random numbers from 0 to 100\n"
   ]
  },
  {
   "cell_type": "code",
   "execution_count": 3,
   "metadata": {},
   "outputs": [
    {
     "name": "stdout",
     "output_type": "stream",
     "text": [
      "[86, 48, 7, 89, 34, 9]\n"
     ]
    }
   ],
   "source": [
    "from random import randint \n",
    "n = int(input(\"Size of List:\")) # size of list\n",
    "x = []   #  empty list\n",
    "for i in range(n):\n",
    "    val = randint(1,100)\n",
    "    x.append(val)\n",
    "print(x)"
   ]
  },
  {
   "cell_type": "markdown",
   "metadata": {},
   "source": [
    "Question 2 - calculate the mean,max,min,sum of the list "
   ]
  },
  {
   "cell_type": "code",
   "execution_count": 9,
   "metadata": {},
   "outputs": [
    {
     "name": "stdout",
     "output_type": "stream",
     "text": [
      "Total: 273\n",
      "Min: 7\n",
      "Max: 89\n",
      "mean: 45.5\n"
     ]
    }
   ],
   "source": [
    "total = sum(x)\n",
    "xmin = min(x)\n",
    "xmax = max(x)\n",
    "xmean = total/len(x)\n",
    "print(\"Total:\",total)\n",
    "print(\"Min:\",xmin)\n",
    "print(\"Max:\",xmax)\n",
    "print(\"mean:\",xmean)"
   ]
  },
  {
   "cell_type": "markdown",
   "metadata": {},
   "source": [
    "Question 3 - generate a list of 25 elements, then create a smaller list of numbers from that list based on the following conditions:\n",
    "* number that is divisible by 3\n",
    "* number that is divisible by 5\n",
    "* number that is divisible by both 3 and 5"
   ]
  },
  {
   "cell_type": "code",
   "execution_count": 11,
   "metadata": {},
   "outputs": [
    {
     "name": "stdout",
     "output_type": "stream",
     "text": [
      "[1, 2, 3, 4, 5, 6, 7, 8, 9, 10, 11, 12, 13, 14, 15, 16, 17, 18, 19, 20, 21, 22, 23, 24, 25]\n",
      "[3, 5]\n",
      "[3, 5, 6, 9, 10]\n",
      "[3, 5, 6, 9, 10, 12, 15, 18, 20]\n",
      "[3, 5, 6, 9, 10, 12, 15, 18, 20, 21, 24, 25]\n"
     ]
    }
   ],
   "source": [
    "x = list(range(1,26))\n",
    "print(x)\n",
    "xs = []\n",
    "for i in x:\n",
    "    if i % 3 == 0 and i % 5 == 0:\n",
    "        xs.append(i)\n",
    "    elif i % 3 == 0:\n",
    "        xs.append(i)\n",
    "    elif i % 5 == 0:\n",
    "        xs.append(i)\n",
    "        print(xs)"
   ]
  },
  {
   "cell_type": "markdown",
   "metadata": {},
   "source": [
    "question 4 - remove any 3rd element from the list from a list of size 25 and display the updated list"
   ]
  },
  {
   "cell_type": "code",
   "execution_count": 20,
   "metadata": {},
   "outputs": [
    {
     "name": "stdout",
     "output_type": "stream",
     "text": [
      "[1, 2, 3, 4, 5, 6, 7, 8, 9, 10, 11, 12, 13, 14, 15, 16, 17, 18, 19, 20, 21, 22, 23, 24, 25]\n",
      "[2, 3, 4, 6, 7, 8, 10, 11, 12, 14, 15, 16, 18, 19, 20, 22, 23, 24]\n"
     ]
    }
   ],
   "source": [
    "x = list(range(1,26))\n",
    "print(x)\n",
    "for i,v in enumerate(x):\n",
    "    if i % 3 == 0:\n",
    "        x.pop(i)\n",
    "print(x)\n",
    "\n",
    "\n",
    "\n"
   ]
  },
  {
   "cell_type": "markdown",
   "metadata": {},
   "source": [
    "Question 5 - take names of 10 movies from user and store them in a list, then display the list in a sorted order"
   ]
  },
  {
   "cell_type": "code",
   "execution_count": 24,
   "metadata": {},
   "outputs": [
    {
     "name": "stdout",
     "output_type": "stream",
     "text": [
      "['avengers', 'bite', 'hulk', 'iron man', 'loki', 'love is in the range', 'spiderman ', 'star wars ', 'stars', 'tarzan']\n"
     ]
    }
   ],
   "source": [
    "movies = []\n",
    "for i in range(10):\n",
    "    val = str(input(\"enter amovie:\"))\n",
    "    movies.append(val)\n",
    "movies.sort()\n",
    "print(movies)\n"
   ]
  },
  {
   "cell_type": "markdown",
   "metadata": {},
   "source": [
    "### create a nested list that contains triplets at each index\n",
    "[[1,2,3],[4,5,6],[7,8,9]]"
   ]
  },
  {
   "cell_type": "code",
   "execution_count": 25,
   "metadata": {},
   "outputs": [
    {
     "name": "stdout",
     "output_type": "stream",
     "text": [
      "[[0, 0, 0], [1, 1, 1], [2, 2, 2], [3, 3, 3], [4, 4, 4]]\n"
     ]
    }
   ],
   "source": [
    "x3 = []\n",
    "for i in range(5):\n",
    "    x3.append([i,i,i])\n",
    "print(x3)"
   ]
  },
  {
   "cell_type": "code",
   "execution_count": 33,
   "metadata": {},
   "outputs": [
    {
     "name": "stdout",
     "output_type": "stream",
     "text": [
      "[[1, 2, 3], [4, 5, 6], [7, 8, 9]]\n"
     ]
    }
   ],
   "source": [
    "outer = []\n",
    "count = 1\n",
    "for i in range(1,4):\n",
    "    inner = []\n",
    "    for j in range(1,4):\n",
    "        inner.append(count)\n",
    "        count+=1\n",
    "    outer.append(inner)\n",
    "print(outer)"
   ]
  },
  {
   "cell_type": "code",
   "execution_count": null,
   "metadata": {},
   "outputs": [],
   "source": []
  }
 ],
 "metadata": {
  "interpreter": {
   "hash": "50b26f52a78e56bb50a957cf14aee04c6c923725037f0b0901654ff3139df2fa"
  },
  "kernelspec": {
   "display_name": "Python 3.10.4 64-bit",
   "language": "python",
   "name": "python3"
  },
  "language_info": {
   "codemirror_mode": {
    "name": "ipython",
    "version": 3
   },
   "file_extension": ".py",
   "mimetype": "text/x-python",
   "name": "python",
   "nbconvert_exporter": "python",
   "pygments_lexer": "ipython3",
   "version": "3.10.4"
  },
  "orig_nbformat": 4
 },
 "nbformat": 4,
 "nbformat_minor": 2
}

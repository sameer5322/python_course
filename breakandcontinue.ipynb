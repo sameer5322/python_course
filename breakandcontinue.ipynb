{
 "cells": [
  {
   "cell_type": "code",
   "execution_count": 1,
   "metadata": {},
   "outputs": [
    {
     "name": "stdout",
     "output_type": "stream",
     "text": [
      "1\n",
      "2\n",
      "3\n",
      "4\n",
      "5\n"
     ]
    }
   ],
   "source": [
    "###break and continue###\n",
    "### eg break ###\n",
    "data = [1,2,3,4,5,-1,7,8,9,10]\n",
    "for val in data:\n",
    "    if val < 0:\n",
    "        break\n",
    "    print(val)\n"
   ]
  },
  {
   "cell_type": "code",
   "execution_count": 2,
   "metadata": {},
   "outputs": [
    {
     "name": "stdout",
     "output_type": "stream",
     "text": [
      "1\n",
      "2\n",
      "3\n",
      "4\n",
      "5\n",
      "6\n",
      "7\n",
      "8\n"
     ]
    }
   ],
   "source": [
    "#### eg 2 ##\n",
    "for i in range(1,100):\n",
    "    print(i)\n",
    "    if i % 8 == 0:\n",
    "        break\n"
   ]
  },
  {
   "cell_type": "code",
   "execution_count": 4,
   "metadata": {},
   "outputs": [
    {
     "name": "stdout",
     "output_type": "stream",
     "text": [
      "yoy entered tv\n",
      "yoy entered ac\n",
      "the end\n"
     ]
    }
   ],
   "source": [
    "#### eg 3  ###\n",
    "size = 100\n",
    "start = 1\n",
    "while start <= size:\n",
    "    name = input(\"enter a name of product\")\n",
    "    if name == \"end\":\n",
    "        break\n",
    "    print(f'yoy entered {name}')\n",
    "    start += 2\n",
    "print(\"the end\")\n"
   ]
  },
  {
   "cell_type": "code",
   "execution_count": 5,
   "metadata": {},
   "outputs": [
    {
     "name": "stdout",
     "output_type": "stream",
     "text": [
      "i know alice\n",
      "i know bob\n",
      "i know charlie\n",
      "i know david\n",
      "i know eve\n",
      "i know frank\n"
     ]
    }
   ],
   "source": [
    "##### continue eg ####\n",
    "names = ['alice','bob','charlie','','david','eve','','frank']\n",
    "for name in names:              \n",
    "    if name == '':               \n",
    "        continue                 \n",
    "    print(f'i know {name}')\n"
   ]
  },
  {
   "cell_type": "code",
   "execution_count": 6,
   "metadata": {},
   "outputs": [
    {
     "name": "stdout",
     "output_type": "stream",
     "text": [
      "i know alice\n",
      "i know bob\n",
      "i know charlie\n",
      "i know david\n",
      "i know eve\n",
      "i know frank\n"
     ]
    }
   ],
   "source": [
    "for name in names:\n",
    "    if len(name) > 0:\n",
    "        print(f'i know {name}')"
   ]
  },
  {
   "cell_type": "code",
   "execution_count": 7,
   "metadata": {},
   "outputs": [
    {
     "name": "stdout",
     "output_type": "stream",
     "text": [
      "you have written\n",
      "my name is sameer \n",
      "i love my country\n",
      "\n"
     ]
    }
   ],
   "source": [
    "### eg 2  ##\n",
    "story = \"\"\n",
    "while True:\n",
    "    line = input(\"enter a line\")\n",
    "    if line == \"end\":\n",
    "        break\n",
    "    else:\n",
    "        story += line + \"\\n\"\n",
    "print(\"you have written\")\n",
    "print(story)\n"
   ]
  },
  {
   "cell_type": "code",
   "execution_count": 8,
   "metadata": {},
   "outputs": [
    {
     "name": "stdout",
     "output_type": "stream",
     "text": [
      "apple\n",
      "banana\n",
      "cherry\n"
     ]
    }
   ],
   "source": [
    "#### use of else clause to check the break #####\n",
    "fruits = ['apple','banana','cherry','date','eggplant']\n",
    "for fruit in fruits:\n",
    "    print(fruit)\n",
    "    if fruit == 'cherry':\n",
    "        break\n",
    "else:\n",
    "    print(\"all fruits are listed\")\n"
   ]
  },
  {
   "cell_type": "code",
   "execution_count": 12,
   "metadata": {},
   "outputs": [
    {
     "name": "stdout",
     "output_type": "stream",
     "text": [
      "11 is a prime number\n"
     ]
    }
   ],
   "source": [
    "### eg 2###\n",
    "## check no is prime or not\n",
    "number = int(input('enter a number'))\n",
    "for i in range(2,number):\n",
    "    if number % i == 0:\n",
    "        print(f'{number} is not a prime number')\n",
    "        break\n",
    "else:\n",
    "    print(f'{number} is a prime number')\n"
   ]
  },
  {
   "cell_type": "code",
   "execution_count": 14,
   "metadata": {},
   "outputs": [
    {
     "name": "stdout",
     "output_type": "stream",
     "text": [
      "abcdefghijklmnopqrstuvwxyz\n"
     ]
    }
   ],
   "source": [
    "#####   enumerate function  ####\n",
    "from string import ascii_lowercase\n",
    "print(ascii_lowercase)\n"
   ]
  },
  {
   "cell_type": "code",
   "execution_count": 15,
   "metadata": {},
   "outputs": [
    {
     "name": "stdout",
     "output_type": "stream",
     "text": [
      "a\n",
      "b\n",
      "c\n",
      "d\n",
      "e\n",
      "f\n",
      "g\n",
      "h\n",
      "i\n",
      "j\n",
      "k\n"
     ]
    }
   ],
   "source": [
    "for p,i in enumerate(ascii_lowercase):\n",
    "    print(i)\n",
    "    if p == 10:\n",
    "        break\n"
   ]
  },
  {
   "cell_type": "code",
   "execution_count": 16,
   "metadata": {},
   "outputs": [
    {
     "name": "stdout",
     "output_type": "stream",
     "text": [
      "apple costs 100 qty 12\n",
      "banana costs 00 qty 15\n",
      "cherry costs 40 qty 100\n",
      "date costs 00 qty 50\n",
      "eggplant costs 120 qty 3\n"
     ]
    }
   ],
   "source": [
    "##### eg   ####\n",
    "fruits = ['apple','banana','cherry','date','eggplant']\n",
    "prices = ['100','00','40','00','120','00','200','00','25','00']\n",
    "qty = ['12','15','100','50','3']\n",
    "for fr,pr,qr in zip(fruits,prices,qty):\n",
    "    print(f'{fr} costs {pr} qty {qr}')\n"
   ]
  },
  {
   "cell_type": "code",
   "execution_count": 17,
   "metadata": {},
   "outputs": [],
   "source": [
    "###  WAP to add all numbers of the digit using while loop  ###\n"
   ]
  },
  {
   "cell_type": "code",
   "execution_count": null,
   "metadata": {},
   "outputs": [],
   "source": []
  }
 ],
 "metadata": {
  "interpreter": {
   "hash": "50b26f52a78e56bb50a957cf14aee04c6c923725037f0b0901654ff3139df2fa"
  },
  "kernelspec": {
   "display_name": "Python 3.10.4 64-bit",
   "language": "python",
   "name": "python3"
  },
  "language_info": {
   "codemirror_mode": {
    "name": "ipython",
    "version": 3
   },
   "file_extension": ".py",
   "mimetype": "text/x-python",
   "name": "python",
   "nbconvert_exporter": "python",
   "pygments_lexer": "ipython3",
   "version": "3.10.4"
  },
  "orig_nbformat": 4
 },
 "nbformat": 4,
 "nbformat_minor": 2
}

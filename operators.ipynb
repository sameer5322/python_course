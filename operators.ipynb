{
 "cells": [
  {
   "cell_type": "code",
   "execution_count": 1,
   "metadata": {},
   "outputs": [
    {
     "name": "stdout",
     "output_type": "stream",
     "text": [
      "True\n",
      "False\n",
      "False\n",
      "True\n"
     ]
    }
   ],
   "source": [
    "## identity operator (very less needed)\n",
    "x={1,2,3}\n",
    "y=x\n",
    "z={1,2,3}\n",
    "print(x is y)\n",
    "print(x is z)\n",
    "print(y is z)\n",
    "print(x is not z)\n"
   ]
  },
  {
   "cell_type": "code",
   "execution_count": 2,
   "metadata": {},
   "outputs": [
    {
     "name": "stdout",
     "output_type": "stream",
     "text": [
      "True\n",
      "False\n"
     ]
    }
   ],
   "source": [
    "## membership operator\n",
    "values=[1,2,3,4,5]\n",
    "print(3 in values)\n",
    "print(10 in values)\n"
   ]
  },
  {
   "cell_type": "code",
   "execution_count": 3,
   "metadata": {},
   "outputs": [
    {
     "name": "stdout",
     "output_type": "stream",
     "text": [
      "sameer ignou lucknow\n"
     ]
    }
   ],
   "source": [
    "## input output  ##\n",
    "name = input(\"what is your name\")\n",
    "college = input(\"what college do you go to \")\n",
    "city = input(\"what city do you lve in \")\n",
    "print(name,college,city)\n"
   ]
  },
  {
   "cell_type": "code",
   "execution_count": 4,
   "metadata": {},
   "outputs": [
    {
     "name": "stdout",
     "output_type": "stream",
     "text": [
      "70\n"
     ]
    }
   ],
   "source": [
    "# input will always be string\n",
    "n1 = int(input(\"enter a no\"))\n",
    "n2 = int(input(\"enter another no\"))\n",
    "print(n1 + n2)\n"
   ]
  },
  {
   "cell_type": "code",
   "execution_count": 5,
   "metadata": {},
   "outputs": [
    {
     "name": "stdout",
     "output_type": "stream",
     "text": [
      "100\n"
     ]
    }
   ],
   "source": [
    "# eval function to add nteger part of string\n",
    "x=20\n",
    "y=5\n",
    "print (eval ('x*y'))\n"
   ]
  },
  {
   "cell_type": "code",
   "execution_count": 13,
   "metadata": {},
   "outputs": [
    {
     "name": "stdout",
     "output_type": "stream",
     "text": [
      "the value of 25 and 20 is 45\n",
      "the value of 25 and 20 is 45\n",
      " the value of 25 and 20 is 45\n",
      "the value of 25 and 20 is 45\n",
      "the value of 25 and 20 is 45\n"
     ]
    }
   ],
   "source": [
    "## output\n",
    "x=25\n",
    "y=20\n",
    "z=x+y\n",
    "print('the value of',x,'and',y,'is',z)\n",
    "print('the value of %d and %d is %d'%(x,y,z))\n",
    "print(' the value of ' +str(x)+ ' and ' +str(y)+ ' is ' +str(z))\n",
    "print('the value of {} and {} is {}'.format(x,y,z))\n",
    "print(f'the value of {x} and {y} is {z}')\n"
   ]
  },
  {
   "cell_type": "code",
   "execution_count": 14,
   "metadata": {},
   "outputs": [
    {
     "name": "stdout",
     "output_type": "stream",
     "text": [
      "the value of12.46\n",
      "the value of12.465\n"
     ]
    }
   ],
   "source": [
    "sigma=12.4646464\n",
    "print(f'the value of{sigma:.2f}')\n",
    "print(f'the value of{sigma:.3f}')\n"
   ]
  },
  {
   "cell_type": "code",
   "execution_count": 15,
   "metadata": {},
   "outputs": [
    {
     "name": "stdout",
     "output_type": "stream",
     "text": [
      "25 20 45 25 45 45 20\n",
      "25,20,45,25,45,45,20\n"
     ]
    }
   ],
   "source": [
    "print(x,y,z,x,z,z,y)\n",
    "print(x,y,z,x,z,z,y,sep=',')\n"
   ]
  },
  {
   "cell_type": "code",
   "execution_count": 16,
   "metadata": {},
   "outputs": [
    {
     "name": "stdout",
     "output_type": "stream",
     "text": [
      "hello\n",
      "world\n",
      "everyone\n",
      "hello world#everyone@"
     ]
    }
   ],
   "source": [
    "print('hello')\n",
    "print('world')\n",
    "print('everyone')\n",
    "print('hello',end=' ')\n",
    "print('world',end='#')\n",
    "print('everyone',end='@')\n"
   ]
  }
 ],
 "metadata": {
  "interpreter": {
   "hash": "50b26f52a78e56bb50a957cf14aee04c6c923725037f0b0901654ff3139df2fa"
  },
  "kernelspec": {
   "display_name": "Python 3.10.4 64-bit",
   "language": "python",
   "name": "python3"
  },
  "language_info": {
   "codemirror_mode": {
    "name": "ipython",
    "version": 3
   },
   "file_extension": ".py",
   "mimetype": "text/x-python",
   "name": "python",
   "nbconvert_exporter": "python",
   "pygments_lexer": "ipython3",
   "version": "3.10.4"
  },
  "orig_nbformat": 4
 },
 "nbformat": 4,
 "nbformat_minor": 2
}

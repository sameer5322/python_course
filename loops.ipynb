{
 "cells": [
  {
   "cell_type": "code",
   "execution_count": 1,
   "metadata": {},
   "outputs": [
    {
     "name": "stdout",
     "output_type": "stream",
     "text": [
      "P\n",
      "Y\n",
      "T\n",
      "H\n",
      "O\n",
      "N\n"
     ]
    }
   ],
   "source": [
    "##  loops  ###\n",
    "#  for loops  #\n",
    "x = \"PYTHON\"\n",
    "for i in x:\n",
    "    print(i)\n"
   ]
  },
  {
   "cell_type": "code",
   "execution_count": 2,
   "metadata": {},
   "outputs": [
    {
     "name": "stdout",
     "output_type": "stream",
     "text": [
      "o\n",
      "n\n",
      "c\n",
      "e\n",
      " \n",
      "u\n",
      "p\n",
      "o\n",
      "n\n",
      " \n",
      "a\n",
      " \n",
      "t\n",
      "i\n",
      "m\n",
      "e\n",
      ".\n",
      ".\n",
      ".\n"
     ]
    }
   ],
   "source": [
    "story = \"once upon a time...\"\n",
    "for char in story:\n",
    "    print(char)\n"
   ]
  },
  {
   "cell_type": "code",
   "execution_count": 3,
   "metadata": {},
   "outputs": [
    {
     "name": "stdout",
     "output_type": "stream",
     "text": [
      "Alice 5,bob 3,charlie 7,david 5,eve 3,frank 5,"
     ]
    }
   ],
   "source": [
    "names = ['Alice','bob','charlie','david','eve','frank']\n",
    "for name in names:\n",
    "    print(name,len(name),end=',')    #use end to print horizontally\n"
   ]
  },
  {
   "cell_type": "code",
   "execution_count": 4,
   "metadata": {},
   "outputs": [
    {
     "name": "stdout",
     "output_type": "stream",
     "text": [
      "i have apple\n",
      "i have banana\n",
      "i have lemon\n"
     ]
    }
   ],
   "source": [
    "fruits = ['apple','banana','lemon']\n",
    "for item in fruits:\n",
    "    print(f'i have {item}')\n"
   ]
  },
  {
   "cell_type": "code",
   "execution_count": 5,
   "metadata": {},
   "outputs": [
    {
     "name": "stdout",
     "output_type": "stream",
     "text": [
      "you got point 0\n",
      "you got point 1\n",
      "you got point 2\n",
      "you got point 3\n",
      "you got point 4\n",
      "you got point 5\n",
      "you got point 6\n",
      "you got point 7\n"
     ]
    }
   ],
   "source": [
    "####  range function in loop ####\n",
    "###it is used decide how many times the loop will run \n",
    "#  start range   #\n",
    "for i in range(8):\n",
    "    print('you got point',i)\n"
   ]
  },
  {
   "cell_type": "code",
   "execution_count": 6,
   "metadata": {},
   "outputs": [
    {
     "name": "stdout",
     "output_type": "stream",
     "text": [
      "sheep 2\n",
      "sheep 3\n",
      "sheep 4\n",
      "sheep 5\n",
      "sheep 6\n",
      "sheep 7\n",
      "sheep 8\n",
      "sheep 9\n",
      "sheep 10\n"
     ]
    }
   ],
   "source": [
    "# stop range #\n",
    "for num in range(2,11):\n",
    "     print('sheep',num)\n"
   ]
  },
  {
   "cell_type": "code",
   "execution_count": 7,
   "metadata": {},
   "outputs": [
    {
     "name": "stdout",
     "output_type": "stream",
     "text": [
      "level 1\n",
      "level 4\n",
      "level 7\n"
     ]
    }
   ],
   "source": [
    "# step range  #\n",
    "for num in range(1,10,3):\n",
    "    print('level',num)\n"
   ]
  },
  {
   "cell_type": "code",
   "execution_count": 8,
   "metadata": {},
   "outputs": [
    {
     "name": "stdout",
     "output_type": "stream",
     "text": [
      "10\n",
      "9\n",
      "8\n",
      "7\n",
      "6\n"
     ]
    }
   ],
   "source": [
    "#reverse loop#\n",
    "for num in range(10,5,-1):\n",
    "    print(num)\n"
   ]
  },
  {
   "cell_type": "code",
   "execution_count": 9,
   "metadata": {},
   "outputs": [
    {
     "name": "stdout",
     "output_type": "stream",
     "text": [
      "\n",
      "Na\n",
      "NaNa\n",
      "NaNaNa\n",
      "NaNaNaNa\n",
      "NaNaNaNaNa\n",
      "NaNaNaNaNaNa\n",
      "NaNaNaNaNaNaNa\n",
      "NaNaNaNaNaNaNaNa\n",
      "NaNaNaNaNaNaNaNaNa\n"
     ]
    }
   ],
   "source": [
    "#pattern loop#\n",
    "for i in range(10):\n",
    "    print(i*'Na')\n"
   ]
  },
  {
   "cell_type": "code",
   "execution_count": 12,
   "metadata": {},
   "outputs": [
    {
     "name": "stdout",
     "output_type": "stream",
     "text": [
      "1275\n"
     ]
    }
   ],
   "source": [
    "## WAP to calculate the total no of all number from 1 to 50 ?\n",
    "total=0\n",
    "for i in range(1,51):\n",
    "    total += i\n",
    "print(total)\n"
   ]
  },
  {
   "cell_type": "code",
   "execution_count": 15,
   "metadata": {},
   "outputs": [
    {
     "name": "stdout",
     "output_type": "stream",
     "text": [
      "1683\n"
     ]
    }
   ],
   "source": [
    "### WAP to add all numbers that are divisible by 3 ranging from 1 to 100\n",
    "# 1 method\n",
    "total=0\n",
    "for i in range(1,100):\n",
    "    if i%3==0:\n",
    "        total += i\n",
    "print(total)\n"
   ]
  },
  {
   "cell_type": "code",
   "execution_count": 17,
   "metadata": {},
   "outputs": [
    {
     "name": "stdout",
     "output_type": "stream",
     "text": [
      "1683\n"
     ]
    }
   ],
   "source": [
    "# 2 method\n",
    "total = 0\n",
    "for i in range(3,100,3):\n",
    "    total += i\n",
    "print(total)\n"
   ]
  },
  {
   "cell_type": "code",
   "execution_count": 18,
   "metadata": {},
   "outputs": [
    {
     "name": "stdout",
     "output_type": "stream",
     "text": [
      "50.0\n"
     ]
    }
   ],
   "source": [
    "###  WAP to calculte the avg(mean)of all numbers from 1 to 100 #this is a bad program because 99 is constant which is involved \n",
    "total = 0\n",
    "for i in range(1,100):\n",
    "    total += i\n",
    "mean = total / 99\n",
    "print(mean)\n"
   ]
  },
  {
   "cell_type": "code",
   "execution_count": 19,
   "metadata": {},
   "outputs": [
    {
     "name": "stdout",
     "output_type": "stream",
     "text": [
      "run\n",
      "run\n",
      "run\n",
      "run\n",
      "stop\n"
     ]
    }
   ],
   "source": [
    "#####while loop\n",
    "x=1\n",
    "while x < 5:\n",
    "    print('run')\n",
    "    x += 1\n",
    "print('stop')\n"
   ]
  },
  {
   "cell_type": "code",
   "execution_count": 20,
   "metadata": {},
   "outputs": [
    {
     "name": "stdout",
     "output_type": "stream",
     "text": [
      "the sum is 55\n"
     ]
    }
   ],
   "source": [
    "### eg 2 #####\n",
    "# a complex program\n",
    "n = 10\n",
    "#initialize sum and counter\n",
    "sum = 0\n",
    "i = 1\n",
    "while i <= n:\n",
    "    sum = sum + i\n",
    "    i = i + 1        #update counter\n",
    "#print the sum\n",
    "print(\"the sum is\",sum)\n"
   ]
  }
 ],
 "metadata": {
  "interpreter": {
   "hash": "50b26f52a78e56bb50a957cf14aee04c6c923725037f0b0901654ff3139df2fa"
  },
  "kernelspec": {
   "display_name": "Python 3.10.4 64-bit",
   "language": "python",
   "name": "python3"
  },
  "language_info": {
   "codemirror_mode": {
    "name": "ipython",
    "version": 3
   },
   "file_extension": ".py",
   "mimetype": "text/x-python",
   "name": "python",
   "nbconvert_exporter": "python",
   "pygments_lexer": "ipython3",
   "version": "3.10.4"
  },
  "orig_nbformat": 4
 },
 "nbformat": 4,
 "nbformat_minor": 2
}

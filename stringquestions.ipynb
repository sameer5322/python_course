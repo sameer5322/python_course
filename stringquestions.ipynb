{
 "cells": [
  {
   "cell_type": "markdown",
   "metadata": {},
   "source": [
    "Q.1 - Create a String and print it \n"
   ]
  },
  {
   "cell_type": "code",
   "execution_count": 1,
   "metadata": {},
   "outputs": [
    {
     "name": "stdout",
     "output_type": "stream",
     "text": [
      "hello zaid sir \n"
     ]
    }
   ],
   "source": [
    "string = \"hello zaid sir \"\n",
    "print(string)"
   ]
  },
  {
   "cell_type": "markdown",
   "metadata": {},
   "source": [
    "Q.2 - Take a string input and print its length"
   ]
  },
  {
   "cell_type": "code",
   "execution_count": 6,
   "metadata": {},
   "outputs": [
    {
     "name": "stdout",
     "output_type": "stream",
     "text": [
      "python is love\n",
      "length of the string is:  14\n"
     ]
    }
   ],
   "source": [
    "string1 = input(str(\"enter a string\"))\n",
    "len(string1)\n",
    "print(string1)\n",
    "print(f'length of the string is: ',len(string1))"
   ]
  },
  {
   "cell_type": "markdown",
   "metadata": {},
   "source": [
    "Q.3 - Print the last word of the string 'Python is great'using slices"
   ]
  },
  {
   "cell_type": "code",
   "execution_count": 11,
   "metadata": {},
   "outputs": [
    {
     "name": "stdout",
     "output_type": "stream",
     "text": [
      "great\n"
     ]
    }
   ],
   "source": [
    "string2 = \"python is great\"\n",
    "slice1 = string2[10:]\n",
    "print(slice1)"
   ]
  },
  {
   "cell_type": "markdown",
   "metadata": {},
   "source": [
    "Q.4 - Print the each word in different line of string'Python is everywhere'"
   ]
  },
  {
   "cell_type": "code",
   "execution_count": 33,
   "metadata": {},
   "outputs": [
    {
     "name": "stdout",
     "output_type": "stream",
     "text": [
      "Python\n",
      "is\n",
      "everywhere\n"
     ]
    }
   ],
   "source": [
    "string3 = 'Python\\nis\\neverywhere'\n",
    "print(string3)"
   ]
  },
  {
   "cell_type": "markdown",
   "metadata": {},
   "source": [
    "Q.5 - Print the string Hello World! in reverse"
   ]
  },
  {
   "cell_type": "code",
   "execution_count": 4,
   "metadata": {},
   "outputs": [
    {
     "name": "stdout",
     "output_type": "stream",
     "text": [
      "!dlroW olleH\n"
     ]
    }
   ],
   "source": [
    "string4 = 'Hello World!'\n",
    "slice2 = string4[::-1]\n",
    "print(slice2)"
   ]
  },
  {
   "cell_type": "markdown",
   "metadata": {},
   "source": [
    "Q.6 - Convert the string 'How are you?' in uppercase"
   ]
  },
  {
   "cell_type": "code",
   "execution_count": 5,
   "metadata": {},
   "outputs": [
    {
     "data": {
      "text/plain": [
       "'HOW ARE YOU?'"
      ]
     },
     "execution_count": 5,
     "metadata": {},
     "output_type": "execute_result"
    }
   ],
   "source": [
    "string5 = \"How are you?\"\n",
    "string5.upper()\n"
   ]
  },
  {
   "cell_type": "markdown",
   "metadata": {},
   "source": [
    "Q.7 - Convert the string 'How Is It Going?' in lowercase"
   ]
  },
  {
   "cell_type": "code",
   "execution_count": 1,
   "metadata": {},
   "outputs": [
    {
     "data": {
      "text/plain": [
       "'how is it going?'"
      ]
     },
     "execution_count": 1,
     "metadata": {},
     "output_type": "execute_result"
    }
   ],
   "source": [
    "string6 = \"How Is It Going?\"\n",
    "string6.lower()\n"
   ]
  },
  {
   "cell_type": "markdown",
   "metadata": {},
   "source": [
    "Q.8 - Join the following list by spaces( )and print the result\n",
    "\n",
    "     words = ['Python','is','easy','to','learn']"
   ]
  },
  {
   "cell_type": "code",
   "execution_count": 1,
   "metadata": {},
   "outputs": [
    {
     "data": {
      "text/plain": [
       "'Python is easy to learn'"
      ]
     },
     "execution_count": 1,
     "metadata": {},
     "output_type": "execute_result"
    }
   ],
   "source": [
    "words = ['Python','is','easy','to','learn']\n",
    "' '.join(words)"
   ]
  },
  {
   "cell_type": "markdown",
   "metadata": {},
   "source": [
    "Q.9 - Print a multiline string using a single print"
   ]
  },
  {
   "cell_type": "code",
   "execution_count": 2,
   "metadata": {},
   "outputs": [
    {
     "name": "stdout",
     "output_type": "stream",
     "text": [
      "My name is Sameer Pandey\n",
      "I am a BCA graduate \n",
      "i am a hard working student\n"
     ]
    }
   ],
   "source": [
    "string7 = '''My name is Sameer Pandey\n",
    "I am a BCA graduate \n",
    "i am a hard working student'''\n",
    "print(string7)"
   ]
  },
  {
   "cell_type": "markdown",
   "metadata": {},
   "source": [
    "Q.10 - Print this string to move to newline '\\n' is used. (results should look exactly like the provided string)"
   ]
  },
  {
   "cell_type": "code",
   "execution_count": 3,
   "metadata": {},
   "outputs": [
    {
     "name": "stdout",
     "output_type": "stream",
     "text": [
      "My name is Sameer Pandey\n",
      "I am a BCA graduate \n",
      "i am a hard working student\n"
     ]
    }
   ],
   "source": [
    "string8 =  '''My name is Sameer Pandey\\nI am a BCA graduate \\ni am a hard working student'''\n",
    "print(string8)"
   ]
  },
  {
   "cell_type": "markdown",
   "metadata": {},
   "source": [
    "Q.11 - Print a variable with some text using a single print function, output should look like following.\n",
    "      \n",
    "        the variable is 15"
   ]
  },
  {
   "cell_type": "code",
   "execution_count": 4,
   "metadata": {},
   "outputs": [
    {
     "name": "stdout",
     "output_type": "stream",
     "text": [
      "the variable is 15\n"
     ]
    }
   ],
   "source": [
    "s = 'the variable is 15'\n",
    "print(s)"
   ]
  },
  {
   "cell_type": "markdown",
   "metadata": {},
   "source": [
    "Q.12 - concatenate the following strings and print the result \n",
    "\n",
    " s1 = 'python '\n",
    "\n",
    " s2 = 'is '\n",
    " \n",
    " s3 = 'great.'"
   ]
  },
  {
   "cell_type": "code",
   "execution_count": 9,
   "metadata": {},
   "outputs": [
    {
     "name": "stdout",
     "output_type": "stream",
     "text": [
      "python is great \n"
     ]
    }
   ],
   "source": [
    "s1 = 'python '\n",
    "s2 = 'is '\n",
    "s3 = 'great '\n",
    "print(s1+s2+s3)"
   ]
  },
  {
   "cell_type": "markdown",
   "metadata": {},
   "source": [
    "Q.13 - Print # 20 times without using a loop"
   ]
  },
  {
   "cell_type": "code",
   "execution_count": 12,
   "metadata": {},
   "outputs": [
    {
     "name": "stdout",
     "output_type": "stream",
     "text": [
      "####################\n"
     ]
    }
   ],
   "source": [
    "print('#' * 20)"
   ]
  },
  {
   "cell_type": "markdown",
   "metadata": {},
   "source": [
    "Q.14 - Print numbers from 1 to 9, each on a seperate line, followed by a dot, output should look like the following-\n",
    "\n",
    "1.\n",
    "2.\n",
    "3.\n"
   ]
  },
  {
   "cell_type": "code",
   "execution_count": 16,
   "metadata": {},
   "outputs": [
    {
     "name": "stdout",
     "output_type": "stream",
     "text": [
      "1 .\n",
      "2 .\n",
      "3 .\n",
      "4 .\n",
      "5 .\n",
      "6 .\n",
      "7 .\n",
      "8 .\n",
      "9 .\n",
      "10 .\n"
     ]
    }
   ],
   "source": [
    "i = 1\n",
    "while(i<=10):\n",
    "    print(i,'.')\n",
    "    i=i+1"
   ]
  },
  {
   "cell_type": "markdown",
   "metadata": {},
   "source": [
    "Q.15 - Ask user to input a sentence and print each word on a different line."
   ]
  },
  {
   "cell_type": "code",
   "execution_count": 22,
   "metadata": {},
   "outputs": [
    {
     "name": "stdout",
     "output_type": "stream",
     "text": [
      "i\n",
      "love\n",
      "python \n",
      "language\n",
      "thamk you\n"
     ]
    }
   ],
   "source": [
    "for i in range(5):\n",
    "    enter = input('enter words\\n')\n",
    "    print(enter)"
   ]
  },
  {
   "cell_type": "markdown",
   "metadata": {},
   "source": [
    "Q.16 - Ask user to input a string and check if the string ends with '?'"
   ]
  },
  {
   "cell_type": "code",
   "execution_count": 31,
   "metadata": {},
   "outputs": [
    {
     "name": "stdout",
     "output_type": "stream",
     "text": [
      "are you? mad\n",
      "search matched\n"
     ]
    }
   ],
   "source": [
    "string9 = input(str(\"enter a string\"))\n",
    "print(string9)\n",
    "check = '?'\n",
    "if check in string9 :\n",
    "    print('search matched')\n"
   ]
  },
  {
   "cell_type": "markdown",
   "metadata": {},
   "source": [
    "Q.17 - Ask user to input a string and print how many times e appeared in the string"
   ]
  },
  {
   "cell_type": "code",
   "execution_count": 34,
   "metadata": {},
   "outputs": [
    {
     "name": "stdout",
     "output_type": "stream",
     "text": [
      "my name is sameer \n",
      "3\n"
     ]
    }
   ],
   "source": [
    "string10 = input(str(\"enter a paragraph\"))\n",
    "print(string10)\n",
    "print(string10.count('e'))\n"
   ]
  },
  {
   "cell_type": "markdown",
   "metadata": {},
   "source": [
    "Q.18 - Check if the user input is a number."
   ]
  },
  {
   "cell_type": "code",
   "execution_count": 40,
   "metadata": {},
   "outputs": [
    {
     "name": "stdout",
     "output_type": "stream",
     "text": [
      "2\n",
      "number\n"
     ]
    }
   ],
   "source": [
    "string11 = input((\"enter a string or a number\"))\n",
    "print(string11)\n",
    "if string11.isnumeric():\n",
    "        print('number')\n",
    "else:\n",
    "    print('Not a number')"
   ]
  },
  {
   "cell_type": "markdown",
   "metadata": {},
   "source": [
    "Q.19 - Remove the extra spaces in beginning and in the end of the following string-\n",
    "\n",
    "      text = '      this is not a good string                 '"
   ]
  },
  {
   "cell_type": "code",
   "execution_count": 41,
   "metadata": {},
   "outputs": [
    {
     "name": "stdout",
     "output_type": "stream",
     "text": [
      "this is not a good string\n"
     ]
    }
   ],
   "source": [
    "text = '    this is not a good string             '\n",
    "space = text.strip()\n",
    "print(space)"
   ]
  },
  {
   "cell_type": "markdown",
   "metadata": {},
   "source": [
    "Q.20 - Ask user to input string, print found if any of the character is upper case."
   ]
  },
  {
   "cell_type": "code",
   "execution_count": 15,
   "metadata": {},
   "outputs": [
    {
     "name": "stdout",
     "output_type": "stream",
     "text": [
      "The original string is : my name is Sameer\n",
      "Does String contain uppercase character : found\n"
     ]
    }
   ],
   "source": [
    "# user entering string\n",
    "test_str = input(str('Enter any string'))\n",
    "  \n",
    "# printing original string\n",
    "print(\"The original string is : \" + str(test_str))\n",
    "  \n",
    "res = 'not found'\n",
    "for ele in test_str:\n",
    "  \n",
    "    # checking for uppercase character \n",
    "    if ele.isupper():\n",
    "        res = 'found'\n",
    "        break\n",
    "  \n",
    "# printing result\n",
    "print(\"Does String contain uppercase character : \" + str(res))"
   ]
  },
  {
   "cell_type": "markdown",
   "metadata": {},
   "source": [
    "Q.21 - Extract names from the following string and store them in a list.\n",
    "\n",
    "     names = 'Joe, David, Mark, Tom, Chris, Robert'"
   ]
  },
  {
   "cell_type": "code",
   "execution_count": 28,
   "metadata": {},
   "outputs": [
    {
     "name": "stdout",
     "output_type": "stream",
     "text": [
      "['Joe', 'David', 'Mark', 'Tom', 'Chris', 'Robert']\n"
     ]
    }
   ],
   "source": [
    "list = []\n",
    "\n",
    "names = 'Joe, David, Mark, Tom, Chris, Robert'\n",
    "\n",
    "\n",
    "i = names.split(', ')\n",
    "\n",
    "for val in i:\n",
    "    list.append(val)\n",
    "    \n",
    "print(list)"
   ]
  },
  {
   "cell_type": "markdown",
   "metadata": {},
   "source": [
    "Q.22 - In the following string, add aye in the end of every word and print the results.\n",
    "\n",
    "     text = 'this is some text' "
   ]
  },
  {
   "cell_type": "code",
   "execution_count": 1,
   "metadata": {},
   "outputs": [
    {
     "name": "stdout",
     "output_type": "stream",
     "text": [
      "seprate = ['this', 'is', 'some', 'text']\n",
      "this aye\n",
      "is aye\n",
      "some aye\n",
      "text aye\n"
     ]
    }
   ],
   "source": [
    "text = 'this is some text'\n",
    "seprate = text.split(' ')\n",
    "\n",
    "print('seprate =',seprate)\n",
    "\n",
    "for i in seprate:\n",
    "    print(i,'aye')"
   ]
  },
  {
   "cell_type": "markdown",
   "metadata": {},
   "source": [
    "Q.23 - ask user to enter a string and check if the string contains fyi\n"
   ]
  },
  {
   "cell_type": "code",
   "execution_count": 34,
   "metadata": {},
   "outputs": [
    {
     "name": "stdout",
     "output_type": "stream",
     "text": [
      "fyi\n",
      "fyi found here\n"
     ]
    }
   ],
   "source": [
    "string12 = input(str('enter here'))\n",
    "print(string12)\n",
    "\n",
    "if 'fyi' in string12:\n",
    "    print('fyi found here')\n"
   ]
  },
  {
   "cell_type": "markdown",
   "metadata": {},
   "source": [
    "Q.24 - Remove all the special characters and numbers from the following string\n",
    "\n",
    "     text = '%p34@y!*-*!t68h#&on404'"
   ]
  },
  {
   "cell_type": "code",
   "execution_count": 2,
   "metadata": {},
   "outputs": [
    {
     "name": "stdout",
     "output_type": "stream",
     "text": [
      "python\n",
      "%34@!*-*!68#&404\n"
     ]
    }
   ],
   "source": [
    "text = '%p34@y!*-*!t68h#&on404'\n",
    "a = ''\n",
    "r = ''\n",
    "for i in text:\n",
    "    if i.isalpha():\n",
    "        a = a+i\n",
    "    else:\n",
    "        r = r+i\n",
    "        \n",
    "print(a)\n",
    "\n",
    "print(r)"
   ]
  },
  {
   "cell_type": "markdown",
   "metadata": {},
   "source": [
    "Q.25 - calculate the average word length of the following paragraph.\n",
    "\n",
    "     \n",
    "    this is a paragraph which is written just for the purpose of providing content to let the average word length be calculated"
   ]
  },
  {
   "cell_type": "code",
   "execution_count": 3,
   "metadata": {},
   "outputs": [
    {
     "name": "stdout",
     "output_type": "stream",
     "text": [
      "4.636363636363637\n"
     ]
    }
   ],
   "source": [
    "sentence = 'this is a paragraph which is written just for the purpose of providing content to let the average word length be calculated'\n",
    "\n",
    "words = sentence.split()\n",
    "\n",
    "total = sum(map(len, words))/len(words)\n",
    "\n",
    "print(total)"
   ]
  },
  {
   "cell_type": "code",
   "execution_count": null,
   "metadata": {},
   "outputs": [],
   "source": []
  }
 ],
 "metadata": {
  "interpreter": {
   "hash": "50b26f52a78e56bb50a957cf14aee04c6c923725037f0b0901654ff3139df2fa"
  },
  "kernelspec": {
   "display_name": "Python 3.10.4 64-bit",
   "language": "python",
   "name": "python3"
  },
  "language_info": {
   "codemirror_mode": {
    "name": "ipython",
    "version": 3
   },
   "file_extension": ".py",
   "mimetype": "text/x-python",
   "name": "python",
   "nbconvert_exporter": "python",
   "pygments_lexer": "ipython3",
   "version": "3.10.4"
  },
  "orig_nbformat": 4
 },
 "nbformat": 4,
 "nbformat_minor": 2
}
